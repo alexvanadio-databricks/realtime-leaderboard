{
 "cells": [
  {
   "cell_type": "code",
   "execution_count": 0,
   "metadata": {
    "application/vnd.databricks.v1+cell": {
     "cellMetadata": {
      "byteLimit": 2048000,
      "rowLimit": 10000
     },
     "inputWidgets": {},
     "nuid": "78a96c1d-af39-4db9-af1f-ba489a37c320",
     "showTitle": false,
     "tableResultSettingsMap": {},
     "title": ""
    }
   },
   "outputs": [
    {
     "output_type": "display_data",
     "data": {
      "text/html": [
       "<style scoped>\n",
       "  .ansiout {\n",
       "    display: block;\n",
       "    unicode-bidi: embed;\n",
       "    white-space: pre-wrap;\n",
       "    word-wrap: break-word;\n",
       "    word-break: break-all;\n",
       "    font-family: \"Menlo\", \"Monaco\", \"Consolas\", \"Ubuntu Mono\", \"Source Code Pro\", monospace;\n",
       "    font-size: 13px;\n",
       "    color: #555;\n",
       "    margin-left: 4px;\n",
       "    line-height: 19px;\n",
       "  }\n",
       "</style>\n",
       "<div class=\"ansiout\"></div>"
      ]
     },
     "metadata": {
      "application/vnd.databricks.v1+output": {
       "addedWidgets": {},
       "arguments": {},
       "data": "<div class=\"ansiout\"></div>",
       "datasetInfos": [],
       "metadata": {},
       "removedWidgets": [],
       "type": "html"
      }
     }
    }
   ],
   "source": [
    "spark.conf.set(\n",
    "  \"spark.sql.streaming.stateStore.providerClass\",\n",
    "  \"com.databricks.sql.streaming.state.RocksDBStateStoreProvider\")\n",
    "\n",
    "spark.conf.set(\n",
    "  \"spark.sql.streaming.stateStore.rocksdb.changelogCheckpointing.enabled\", \"true\")\n",
    "\n",
    "// 16 cores on my Databricks Cluster, \n",
    "// 3 slots for kafka (Because the Kafka topic has 3 partitions configured and Spark by default is 1:1), \n",
    "// 13 for stage 1 (the only stage), \n",
    "spark.conf.set(\"spark.sql.shuffle.partitions\", \"13\")"
   ]
  },
  {
   "cell_type": "code",
   "execution_count": 0,
   "metadata": {
    "application/vnd.databricks.v1+cell": {
     "cellMetadata": {
      "byteLimit": 2048000,
      "rowLimit": 10000
     },
     "inputWidgets": {},
     "nuid": "5470b9e0-f51a-4109-9003-04bee546e11d",
     "showTitle": false,
     "tableResultSettingsMap": {},
     "title": ""
    }
   },
   "outputs": [
    {
     "output_type": "display_data",
     "data": {
      "text/html": [
       "<style scoped>\n",
       "  .ansiout {\n",
       "    display: block;\n",
       "    unicode-bidi: embed;\n",
       "    white-space: pre-wrap;\n",
       "    word-wrap: break-word;\n",
       "    word-break: break-all;\n",
       "    font-family: \"Menlo\", \"Monaco\", \"Consolas\", \"Ubuntu Mono\", \"Source Code Pro\", monospace;\n",
       "    font-size: 13px;\n",
       "    color: #555;\n",
       "    margin-left: 4px;\n",
       "    line-height: 19px;\n",
       "  }\n",
       "</style>\n",
       "<div class=\"ansiout\">import org.apache.spark.sql._\n",
       "import org.apache.spark.sql.functions._\n",
       "import org.apache.spark.sql.types._\n",
       "import org.apache.spark.sql.streaming._\n",
       "import org.apache.spark.sql.Encoder\n",
       "import org.apache.spark.sql.Encoders\n",
       "import demo.heat._\n",
       "</div>"
      ]
     },
     "metadata": {
      "application/vnd.databricks.v1+output": {
       "addedWidgets": {},
       "arguments": {},
       "data": "<div class=\"ansiout\">import org.apache.spark.sql._\nimport org.apache.spark.sql.functions._\nimport org.apache.spark.sql.types._\nimport org.apache.spark.sql.streaming._\nimport org.apache.spark.sql.Encoder\nimport org.apache.spark.sql.Encoders\nimport demo.heat._\n</div>",
       "datasetInfos": [],
       "metadata": {},
       "removedWidgets": [],
       "type": "html"
      }
     }
    }
   ],
   "source": [
    "import org.apache.spark.sql._\n",
    "import org.apache.spark.sql.functions._\n",
    "import org.apache.spark.sql.types._\n",
    "import org.apache.spark.sql.streaming._\n",
    "\n",
    "import org.apache.spark.sql.Encoder\n",
    "import org.apache.spark.sql.Encoders\n",
    "\n",
    "// All of the TransformWithState code and tests are in here\n",
    "import demo.heat._"
   ]
  },
  {
   "cell_type": "code",
   "execution_count": 0,
   "metadata": {
    "application/vnd.databricks.v1+cell": {
     "cellMetadata": {
      "byteLimit": 2048000,
      "rowLimit": 10000
     },
     "inputWidgets": {},
     "nuid": "4817ae66-eb62-41de-9eb2-7674520224f5",
     "showTitle": false,
     "tableResultSettingsMap": {},
     "title": ""
    }
   },
   "outputs": [
    {
     "output_type": "display_data",
     "data": {
      "text/html": [
       "<style scoped>\n",
       "  .ansiout {\n",
       "    display: block;\n",
       "    unicode-bidi: embed;\n",
       "    white-space: pre-wrap;\n",
       "    word-wrap: break-word;\n",
       "    word-break: break-all;\n",
       "    font-family: \"Menlo\", \"Monaco\", \"Consolas\", \"Ubuntu Mono\", \"Source Code Pro\", monospace;\n",
       "    font-size: 13px;\n",
       "    color: #555;\n",
       "    margin-left: 4px;\n",
       "    line-height: 19px;\n",
       "  }\n",
       "</style>\n",
       "<div class=\"ansiout\">val kafkaBootstrap: String = pkc-56d1g.eastus.azure.confluent.cloud:9092\n",
       "val eventsTopic: String = player_signals\n",
       "</div>"
      ]
     },
     "metadata": {
      "application/vnd.databricks.v1+output": {
       "addedWidgets": {},
       "arguments": {},
       "data": "<div class=\"ansiout\">val kafkaBootstrap: String = pkc-56d1g.eastus.azure.confluent.cloud:9092\nval eventsTopic: String = player_signals\n</div>",
       "datasetInfos": [],
       "metadata": {},
       "removedWidgets": [],
       "type": "html"
      }
     }
    }
   ],
   "source": [
    "val kafkaBootstrap = \"pkc-56d1g.eastus.azure.confluent.cloud:9092\"\n",
    "val eventsTopic    = \"player_signals\""
   ]
  },
  {
   "cell_type": "code",
   "execution_count": 0,
   "metadata": {
    "application/vnd.databricks.v1+cell": {
     "cellMetadata": {
      "byteLimit": 2048000,
      "rowLimit": 10000
     },
     "inputWidgets": {},
     "nuid": "0634695a-b5b9-46c5-83fa-7764c43d3bc1",
     "showTitle": false,
     "tableResultSettingsMap": {},
     "title": ""
    }
   },
   "outputs": [
    {
     "output_type": "display_data",
     "data": {
      "text/html": [
       "<style scoped>\n",
       "  .ansiout {\n",
       "    display: block;\n",
       "    unicode-bidi: embed;\n",
       "    white-space: pre-wrap;\n",
       "    word-wrap: break-word;\n",
       "    word-break: break-all;\n",
       "    font-family: \"Menlo\", \"Monaco\", \"Consolas\", \"Ubuntu Mono\", \"Source Code Pro\", monospace;\n",
       "    font-size: 13px;\n",
       "    color: #555;\n",
       "    margin-left: 4px;\n",
       "    line-height: 19px;\n",
       "  }\n",
       "</style>\n",
       "<div class=\"ansiout\">val itemSchema: org.apache.spark.sql.types.StructType = StructType(StructField(itemID,LongType,true),StructField(displayName,StringType,true),StructField(totalCost,IntegerType,true),StructField(count,IntegerType,true),StructField(slot,IntegerType,true))\n",
       "val scoresSchema: org.apache.spark.sql.types.StructType = StructType(StructField(kills,IntegerType,true),StructField(deaths,IntegerType,true),StructField(assists,IntegerType,true),StructField(creepScore,IntegerType,true))\n",
       "val payloadSchema: org.apache.spark.sql.types.StructType = StructType(StructField(level,IntegerType,true),StructField(items,ArrayType(StructType(StructField(itemID,LongType,true),StructField(displayName,StringType,true),StructField(totalCost,IntegerType,true),StructField(count,IntegerType,true),StructField(slot,IntegerType,true)),true),true),StructField(scores,StructType(StructField(kills,IntegerType,true),StructField(deaths,IntegerType,true),StructField(assists,IntegerType,true),StructField(creepScore,IntegerType,true)),true),StructField(etype,StringType,true),StructField(role,StringType,true),StructField(eventId,LongType,true),StructField(timeSec,DoubleType,true),StructField(dragonType,StringType,true),StructField(stolen,BooleanType,true),StructField(turret,StringType,true),StructField(firstBlood,BooleanType,true),StructField(championName,StringType,true))\n",
       "val signalSchema: org.apache.spark.sql.types.StructType = StructType(StructField(kind,StringType,true),StructField(tsMillis,LongType,true),StructField(gameId,StringType,true),StructField(riotId,StringType,true),StructField(payload,StructType(StructField(level,IntegerType,true),StructField(items,ArrayType(StructType(StructField(itemID,LongType,true),StructField(displayName,StringType,true),StructField(totalCost,IntegerType,true),StructField(count,IntegerType,true),StructField(slot,IntegerType,true)),true),true),StructField(scores,StructType(StructField(kills,IntegerType,true),StructField(deaths,IntegerType,true),StructField(assists,IntegerType,true),StructField(creepScore,IntegerType,true)),true),StructField(etype,StringType,true),StructField(role,StringType,true),StructField(eventId,LongType,true),StructField(timeSec,DoubleType,true),StructField(dragonType,StringType,true),StructField(stolen,BooleanType,true),StructField(turret,StringType,true),StructField(firstBlood,BooleanType,true),StructField(championName,StringType,true)),true))\n",
       "</div>"
      ]
     },
     "metadata": {
      "application/vnd.databricks.v1+output": {
       "addedWidgets": {},
       "arguments": {},
       "data": "<div class=\"ansiout\">val itemSchema: org.apache.spark.sql.types.StructType = StructType(StructField(itemID,LongType,true),StructField(displayName,StringType,true),StructField(totalCost,IntegerType,true),StructField(count,IntegerType,true),StructField(slot,IntegerType,true))\nval scoresSchema: org.apache.spark.sql.types.StructType = StructType(StructField(kills,IntegerType,true),StructField(deaths,IntegerType,true),StructField(assists,IntegerType,true),StructField(creepScore,IntegerType,true))\nval payloadSchema: org.apache.spark.sql.types.StructType = StructType(StructField(level,IntegerType,true),StructField(items,ArrayType(StructType(StructField(itemID,LongType,true),StructField(displayName,StringType,true),StructField(totalCost,IntegerType,true),StructField(count,IntegerType,true),StructField(slot,IntegerType,true)),true),true),StructField(scores,StructType(StructField(kills,IntegerType,true),StructField(deaths,IntegerType,true),StructField(assists,IntegerType,true),StructField(creepScore,IntegerType,true)),true),StructField(etype,StringType,true),StructField(role,StringType,true),StructField(eventId,LongType,true),StructField(timeSec,DoubleType,true),StructField(dragonType,StringType,true),StructField(stolen,BooleanType,true),StructField(turret,StringType,true),StructField(firstBlood,BooleanType,true),StructField(championName,StringType,true))\nval signalSchema: org.apache.spark.sql.types.StructType = StructType(StructField(kind,StringType,true),StructField(tsMillis,LongType,true),StructField(gameId,StringType,true),StructField(riotId,StringType,true),StructField(payload,StructType(StructField(level,IntegerType,true),StructField(items,ArrayType(StructType(StructField(itemID,LongType,true),StructField(displayName,StringType,true),StructField(totalCost,IntegerType,true),StructField(count,IntegerType,true),StructField(slot,IntegerType,true)),true),true),StructField(scores,StructType(StructField(kills,IntegerType,true),StructField(deaths,IntegerType,true),StructField(assists,IntegerType,true),StructField(creepScore,IntegerType,true)),true),StructField(etype,StringType,true),StructField(role,StringType,true),StructField(eventId,LongType,true),StructField(timeSec,DoubleType,true),StructField(dragonType,StringType,true),StructField(stolen,BooleanType,true),StructField(turret,StringType,true),StructField(firstBlood,BooleanType,true),StructField(championName,StringType,true)),true))\n</div>",
       "datasetInfos": [],
       "metadata": {},
       "removedWidgets": [],
       "type": "html"
      }
     }
    }
   ],
   "source": [
    "val itemSchema = new StructType()\n",
    "  .add(\"slot\", IntegerType)\n",
    "  .add(\"itemID\", LongType)\n",
    "  .add(\"displayName\", StringType)\n",
    "  .add(\"totalCost\", IntegerType)   // from DDragon enrichment\n",
    "  .add(\"count\", IntegerType)\n",
    "\n",
    "val scoresSchema = new StructType()\n",
    "  .add(\"kills\", IntegerType)\n",
    "  .add(\"deaths\", IntegerType)\n",
    "  .add(\"assists\", IntegerType)\n",
    "  .add(\"creepScore\", IntegerType)\n",
    "\n",
    "val payloadSchema = new StructType()\n",
    "  // snapshot fields\n",
    "  .add(\"level\", IntegerType)\n",
    "  .add(\"items\", ArrayType(itemSchema))\n",
    "  .add(\"scores\", scoresSchema)\n",
    "  // pulse fields\n",
    "  .add(\"etype\", StringType)        // ChampionKill, DragonKill, ...\n",
    "  .add(\"role\", StringType)         // killer | victim | assister\n",
    "  .add(\"eventId\", LongType)\n",
    "  .add(\"timeSec\", DoubleType)\n",
    "  .add(\"dragonType\", StringType)\n",
    "  .add(\"stolen\", BooleanType)\n",
    "  .add(\"turret\", StringType)\n",
    "  .add(\"firstBlood\", BooleanType)\n",
    "  .add(\"championName\", StringType)\n",
    "  .add(\"isDead\", BooleanType)\n",
    "\n",
    "// ---- top-level envelope ----\n",
    "val signalSchema = new StructType()\n",
    "  .add(\"kind\", StringType)         // \"snapshot\" | \"pulse\"\n",
    "  .add(\"tsMillis\", LongType)\n",
    "  .add(\"gameId\", StringType)\n",
    "  .add(\"riotId\", StringType)\n",
    "  .add(\"team\", StringType)\n",
    "  .add(\"payload\", payloadSchema)"
   ]
  },
  {
   "cell_type": "code",
   "execution_count": 0,
   "metadata": {
    "application/vnd.databricks.v1+cell": {
     "cellMetadata": {
      "byteLimit": 2048000,
      "rowLimit": 10000
     },
     "inputWidgets": {},
     "nuid": "220ec72e-053d-4369-8228-f811d053edc3",
     "showTitle": false,
     "tableResultSettingsMap": {},
     "title": ""
    }
   },
   "outputs": [
    {
     "output_type": "display_data",
     "data": {
      "text/html": [
       "<style scoped>\n",
       "  .ansiout {\n",
       "    display: block;\n",
       "    unicode-bidi: embed;\n",
       "    white-space: pre-wrap;\n",
       "    word-wrap: break-word;\n",
       "    word-break: break-all;\n",
       "    font-family: \"Menlo\", \"Monaco\", \"Consolas\", \"Ubuntu Mono\", \"Source Code Pro\", monospace;\n",
       "    font-size: 13px;\n",
       "    color: #555;\n",
       "    margin-left: 4px;\n",
       "    line-height: 19px;\n",
       "  }\n",
       "</style>\n",
       "<div class=\"ansiout\">def getStreamingDF(useDelta: Boolean): org.apache.spark.sql.DataFrame\n",
       "</div>"
      ]
     },
     "metadata": {
      "application/vnd.databricks.v1+output": {
       "addedWidgets": {},
       "arguments": {},
       "data": "<div class=\"ansiout\">def getStreamingDF(useDelta: Boolean): org.apache.spark.sql.DataFrame\n</div>",
       "datasetInfos": [],
       "metadata": {},
       "removedWidgets": [],
       "type": "html"
      }
     }
    }
   ],
   "source": [
    "// This is useful for testing so I don't have to actually run the game\n",
    "// or worry about what's on the topic\n",
    "def getStreamingDF(useDelta: Boolean = false): DataFrame = {\n",
    "  useDelta match {\n",
    "    case true => \n",
    "      spark.readStream.table(\"users.alex_vanadio.player_signals\")\n",
    "    case false =>\n",
    "      spark.readStream\n",
    "        .format(\"kafka\")\n",
    "        .option(\"kafka.bootstrap.servers\", kafkaBootstrap)\n",
    "        .option(\"startingOffsets\", \"latest\")\n",
    "        .option(\"kafka.security.protocol\", \"SASL_SSL\")\n",
    "        .option(\"kafka.sasl.mechanism\", \"PLAIN\")\n",
    "        .option(\"kafka.sasl.jaas.config\", \"kafkashaded.org.apache.kafka.common.security.plain.PlainLoginModule required username='DUZSLDUERISLSVET' password='cfltiL+DtOkmn4axL6BPsTr5+N//BAt7lQECDGcUdVpvI6HrVx75ICzlWbxs2h5g';\")\n",
    "        .option(\"subscribe\", eventsTopic)\n",
    "        .load()\n",
    "  }\n",
    "}"
   ]
  },
  {
   "cell_type": "code",
   "execution_count": 0,
   "metadata": {
    "application/vnd.databricks.v1+cell": {
     "cellMetadata": {
      "byteLimit": 2048000,
      "rowLimit": 10000
     },
     "inputWidgets": {},
     "nuid": "6bd6f7a6-db0a-439a-a227-5f5a7b7bfc5a",
     "showTitle": false,
     "tableResultSettingsMap": {},
     "title": ""
    }
   },
   "outputs": [
    {
     "output_type": "display_data",
     "data": {
      "text/html": [
       "<style scoped>\n",
       "  .ansiout {\n",
       "    display: block;\n",
       "    unicode-bidi: embed;\n",
       "    white-space: pre-wrap;\n",
       "    word-wrap: break-word;\n",
       "    word-break: break-all;\n",
       "    font-family: \"Menlo\", \"Monaco\", \"Consolas\", \"Ubuntu Mono\", \"Source Code Pro\", monospace;\n",
       "    font-size: 13px;\n",
       "    color: #555;\n",
       "    margin-left: 4px;\n",
       "    line-height: 19px;\n",
       "  }\n",
       "</style>\n",
       "<div class=\"ansiout\">val playerSignalsStreamingDF: org.apache.spark.sql.DataFrame = [key: binary, value: binary ... 5 more fields]\n",
       "val playerSignals: org.apache.spark.sql.DataFrame = [kafkaKey: string, kafkaTs: timestamp ... 20 more fields]\n",
       "</div>"
      ]
     },
     "metadata": {
      "application/vnd.databricks.v1+output": {
       "addedWidgets": {},
       "arguments": {},
       "data": "<div class=\"ansiout\">val playerSignalsStreamingDF: org.apache.spark.sql.DataFrame = [key: binary, value: binary ... 5 more fields]\nval playerSignals: org.apache.spark.sql.DataFrame = [kafkaKey: string, kafkaTs: timestamp ... 20 more fields]\n</div>",
       "datasetInfos": [
        {
         "name": "playerSignalsStreamingDF",
         "schema": {
          "fields": [
           {
            "metadata": {},
            "name": "key",
            "nullable": true,
            "type": "binary"
           },
           {
            "metadata": {},
            "name": "value",
            "nullable": true,
            "type": "binary"
           },
           {
            "metadata": {},
            "name": "topic",
            "nullable": true,
            "type": "string"
           },
           {
            "metadata": {},
            "name": "partition",
            "nullable": true,
            "type": "integer"
           },
           {
            "metadata": {},
            "name": "offset",
            "nullable": true,
            "type": "long"
           },
           {
            "metadata": {},
            "name": "timestamp",
            "nullable": true,
            "type": "timestamp"
           },
           {
            "metadata": {},
            "name": "timestampType",
            "nullable": true,
            "type": "integer"
           }
          ],
          "type": "struct"
         },
         "tableIdentifier": null,
         "typeStr": "org.apache.spark.sql.DataFrame"
        },
        {
         "name": "playerSignals",
         "schema": {
          "fields": [
           {
            "metadata": {},
            "name": "kafkaKey",
            "nullable": true,
            "type": "string"
           },
           {
            "metadata": {},
            "name": "kafkaTs",
            "nullable": true,
            "type": "timestamp"
           },
           {
            "metadata": {},
            "name": "kind",
            "nullable": true,
            "type": "string"
           },
           {
            "metadata": {},
            "name": "tsMillis",
            "nullable": true,
            "type": "long"
           },
           {
            "metadata": {},
            "name": "gameId",
            "nullable": true,
            "type": "string"
           },
           {
            "metadata": {},
            "name": "riotId",
            "nullable": true,
            "type": "string"
           },
           {
            "metadata": {},
            "name": "level",
            "nullable": true,
            "type": "integer"
           },
           {
            "metadata": {},
            "name": "items",
            "nullable": true,
            "type": {
             "containsNull": true,
             "elementType": {
              "fields": [
               {
                "metadata": {},
                "name": "itemID",
                "nullable": true,
                "type": "long"
               },
               {
                "metadata": {},
                "name": "displayName",
                "nullable": true,
                "type": "string"
               },
               {
                "metadata": {},
                "name": "totalCost",
                "nullable": true,
                "type": "integer"
               },
               {
                "metadata": {},
                "name": "count",
                "nullable": true,
                "type": "integer"
               },
               {
                "metadata": {},
                "name": "slot",
                "nullable": true,
                "type": "integer"
               }
              ],
              "type": "struct"
             },
             "type": "array"
            }
           },
           {
            "metadata": {},
            "name": "scores",
            "nullable": true,
            "type": {
             "fields": [
              {
               "metadata": {},
               "name": "kills",
               "nullable": true,
               "type": "integer"
              },
              {
               "metadata": {},
               "name": "deaths",
               "nullable": true,
               "type": "integer"
              },
              {
               "metadata": {},
               "name": "assists",
               "nullable": true,
               "type": "integer"
              },
              {
               "metadata": {},
               "name": "creepScore",
               "nullable": true,
               "type": "integer"
              }
             ],
             "type": "struct"
            }
           },
           {
            "metadata": {},
            "name": "etype",
            "nullable": true,
            "type": "string"
           },
           {
            "metadata": {},
            "name": "role",
            "nullable": true,
            "type": "string"
           },
           {
            "metadata": {},
            "name": "eventId",
            "nullable": true,
            "type": "long"
           },
           {
            "metadata": {},
            "name": "timeSec",
            "nullable": true,
            "type": "double"
           },
           {
            "metadata": {},
            "name": "dragonType",
            "nullable": true,
            "type": "string"
           },
           {
            "metadata": {},
            "name": "stolen",
            "nullable": true,
            "type": "boolean"
           },
           {
            "metadata": {},
            "name": "turret",
            "nullable": true,
            "type": "string"
           },
           {
            "metadata": {},
            "name": "firstBlood",
            "nullable": true,
            "type": "boolean"
           },
           {
            "metadata": {},
            "name": "championName",
            "nullable": true,
            "type": "string"
           },
           {
            "metadata": {},
            "name": "topic",
            "nullable": true,
            "type": "string"
           },
           {
            "metadata": {},
            "name": "partition",
            "nullable": true,
            "type": "integer"
           },
           {
            "metadata": {},
            "name": "offset",
            "nullable": true,
            "type": "long"
           },
           {
            "metadata": {},
            "name": "team",
            "nullable": true,
            "type": "string"
           }
          ],
          "type": "struct"
         },
         "tableIdentifier": null,
         "typeStr": "org.apache.spark.sql.DataFrame"
        }
       ],
       "metadata": {},
       "removedWidgets": [],
       "type": "html"
      }
     }
    }
   ],
   "source": [
    "val playerSignalsStreamingDF = getStreamingDF(useDelta = false)\n",
    "\n",
    "val playerSignals = playerSignalsStreamingDF\n",
    "  .selectExpr(\"topic\", \"partition\", \"offset\", \"CAST(key AS STRING) as key\", \"CAST(value AS STRING) AS json\", \"timestamp AS kafkaTs\")\n",
    "  .select(col(\"*\"), from_json(col(\"json\"), signalSchema).as(\"s\"), col(\"kafkaTs\"))\n",
    "  .select(\n",
    "    col(\"key\").as(\"kafkaKey\"),\n",
    "    col(\"kafkaTs\"),\n",
    "    col(\"s.kind\"),\n",
    "    col(\"s.tsMillis\"),\n",
    "    upper(trim(col(\"s.gameId\"))).as(\"gameId\"),\n",
    "    trim(col(\"s.riotId\")).as(\"riotId\"),\n",
    "    upper(trim(col(\"s.team\"))).as(\"team\"), \n",
    "    col(\"s.payload.*\"),   // expands union payload fields; unrelated ones will be null\n",
    "    col(\"topic\"),\n",
    "    col(\"partition\"),\n",
    "    col(\"offset\")\n",
    "  )\n",
    "\n",
    "// display(playerSignals)"
   ]
  },
  {
   "cell_type": "code",
   "execution_count": null,
   "outputs": [],
   "source": [
    "val playerSignalsWithItems = playerSignals\n",
    "  .withColumn(\n",
    "    \"items_str\",\n",
    "    when(col(\"kind\") === \"snapshot\" && col(\"items\").isNotNull,\n",
    "      array_join(\n",
    "        transform(\n",
    "          array_sort(\n",
    "            transform(col(\"items\"),\n",
    "              x => struct(\n",
    "                x.getField(\"slot\").as(\"slot\"),\n",
    "                x.getField(\"itemID\").as(\"itemID\"),\n",
    "                x.getField(\"displayName\").as(\"displayName\")\n",
    "              )\n",
    "            )\n",
    "          ),\n",
    "          x => format_string(\n",
    "            \"%s:%s:%s\",\n",
    "            x.getField(\"slot\"),\n",
    "            x.getField(\"itemID\"),\n",
    "            coalesce(x.getField(\"displayName\"), lit(\"\"))\n",
    "          )\n",
    "        ),\n",
    "        \", \"\n",
    "      )\n",
    "    ).otherwise(lit(null).cast(\"string\")) // => NULL for non-snapshots (and when items is NULL)\n",
    "  )\n",
    "\n",
    "// display(playerSignalsWithItems)"
   ],
   "metadata": {
    "collapsed": false
   }
  },
  {
   "cell_type": "markdown",
   "metadata": {
    "application/vnd.databricks.v1+cell": {
     "cellMetadata": {
      "byteLimit": 2048000,
      "rowLimit": 10000
     },
     "inputWidgets": {},
     "nuid": "22cd8520-5175-43f5-86fe-ffd574c8825c",
     "showTitle": false,
     "tableResultSettingsMap": {},
     "title": ""
    }
   },
   "source": [
    "This is a neat optimization because we know how small the item table really is. LoL has < 1000 items.\n",
    "\n",
    "The other approach is to do a static-stream join, but this should be much more performant"
   ]
  },
  {
   "cell_type": "code",
   "execution_count": 0,
   "metadata": {
    "application/vnd.databricks.v1+cell": {
     "cellMetadata": {
      "byteLimit": 2048000,
      "rowLimit": 10000
     },
     "inputWidgets": {},
     "nuid": "fd1583a6-eee5-4635-973a-0bebee101eb8",
     "showTitle": false,
     "tableResultSettingsMap": {},
     "title": ""
    }
   },
   "outputs": [
    {
     "output_type": "display_data",
     "data": {
      "text/html": [
       "<style scoped>\n",
       "  .ansiout {\n",
       "    display: block;\n",
       "    unicode-bidi: embed;\n",
       "    white-space: pre-wrap;\n",
       "    word-wrap: break-word;\n",
       "    word-break: break-all;\n",
       "    font-family: \"Menlo\", \"Monaco\", \"Consolas\", \"Ubuntu Mono\", \"Source Code Pro\", monospace;\n",
       "    font-size: 13px;\n",
       "    color: #555;\n",
       "    margin-left: 4px;\n",
       "    line-height: 19px;\n",
       "  }\n",
       "</style>\n",
       "<div class=\"ansiout\">val costMapLocal: Map[Long,Double] = HashMap(2163 -&gt; 1000.0, 223047 -&gt; 500.0, 1036 -&gt; 350.0, 223084 -&gt; 2500.0, 9273 -&gt; 0.0, 2031 -&gt; 150.0, 9180 -&gt; 0.0, 1031 -&gt; 800.0, 3863 -&gt; 400.0, 1083 -&gt; 450.0, 4015 -&gt; 2500.0, 6690 -&gt; 775.0, 9305 -&gt; 0.0, 1501 -&gt; 0.0, 9405 -&gt; 0.0, 3053 -&gt; 3200.0, 447118 -&gt; 1000.0, 4005 -&gt; 2250.0, 3399 -&gt; 0.0, 226632 -&gt; 2500.0, 1105 -&gt; 450.0, 447107 -&gt; 1000.0, 446656 -&gt; 1000.0, 3172 -&gt; 1600.0, 663056 -&gt; 2500.0, 226333 -&gt; 2500.0, 3858 -&gt; 400.0, 228008 -&gt; 9000.0, 3012 -&gt; 900.0, 443063 -&gt; 1000.0, 226691 -&gt; 2500.0, 9400 -&gt; 0.0, 323004 -&gt; 2900.0, 3072 -&gt; 3400.0, 220011 -&gt; 750.0, 1522 -&gt; 0.0, 6695 -&gt; 2500.0, 3040 -&gt; 2900.0, 3153 -&gt; 3200.0, 226664 -&gt; 2500.0, 446693 -&gt; 1000.0, 3108 -&gt; 850.0, 9184 -&gt; 0.0, 220001 -&gt; 2000.0, 443069 -&gt; 1000.0, 6665 -&gt; 3200.0, 3175 -&gt; 1600.0, 2141 -&gt; 300.0, 223072 -&gt; 2500.0, 3121 -&gt; 2400.0, 226667 -&gt; 2500.0, 9278 -&gt; 0.0, 2146 -&gt; 0.0, 4633 -&gt; 3100.0, 223116 -&gt; 2500.0, 4403 -&gt; 7187.0, 3004 -&gt; 2900.0, 6675 -&gt; 2650.0, 3135 -&gt; 3000.0, 4011 -&gt; 2500.0, 3044 -&gt; 1100.0, 223094 -&gt; 2500.0, 6655 -&gt; 2750.0, 4638 -&gt; 1100.0, 223748 -&gt; 2500.0, 223003 -&gt; 2500.0, 1507 -&gt; 0.0, 1001 -&gt; 300.0, 2010 -&gt; 50.0, 223111 -&gt; 500.0, 3140 -&gt; 1300.0, 1518 -&gt; 0.0, 223185 -&gt; 500.0, 9292 -&gt; 0.0, 443058 -&gt; 1000.0, 223067 -&gt; 500.0, 223143 -&gt; 2500.0, 2020 -&gt; 1337.0, 3513 -&gt; 0.0, 4637 -&gt; 3000.0, 1055 -&gt; 450.0, 9300 -&gt; 0.0, 220000 -&gt; 750.0, 3131 -&gt; 2300.0, 3116 -&gt; 2600.0, 3046 -&gt; 2650.0, 223105 -&gt; 500.0, 2501 -&gt; 3300.0, 220006 -&gt; 2000.0, 6676 -&gt; 3000.0, 223814 -&gt; 2500.0, 322065 -&gt; 2600.0, 3089 -&gt; 3500.0, 6662 -&gt; 2900.0, 226671 -&gt; 2500.0, 3803 -&gt; 1300.0, 3855 -&gt; 400.0, 323222 -&gt; 2800.0, 9172 -&gt; 0.0, 9287 -&gt; 0.0, 1511 -&gt; 0.0, 663193 -&gt; 2500.0, 2420 -&gt; 1600.0, 2049 -&gt; 500.0, 223071 -&gt; 2500.0, 667109 -&gt; 2500.0, 3084 -&gt; 3000.0, 223073 -&gt; 2500.0, 3902 -&gt; 0.0, 443081 -&gt; 1000.0, 3866 -&gt; 400.0, 444636 -&gt; 1000.0, 2403 -&gt; 0.0, 223020 -&gt; 500.0, 4632 -&gt; 1600.0, 444637 -&gt; 1000.0, 226699 -&gt; 2500.0, 9304 -&gt; 0.0, 223137 -&gt; 2500.0, 9283 -&gt; 0.0, 3075 -&gt; 2450.0, 447114 -&gt; 1000.0, 220002 -&gt; 2000.0, 223135 -&gt; 2500.0, 3152 -&gt; 2650.0, 224644 -&gt; 2500.0, 3851 -&gt; 400.0, 443056 -&gt; 1000.0, 9401 -&gt; 0.0, 6670 -&gt; 1300.0, 223039 -&gt; 2500.0, 1040 -&gt; 350.0, 6657 -&gt; 2600.0, 447111 -&gt; 2500.0, 226665 -&gt; 2500.0, 323003 -&gt; 2900.0, 3068 -&gt; 2700.0, 443059 -&gt; 1000.0, 223157 -&gt; 2500.0, 447101 -&gt; 1000.0, 223177 -&gt; 500.0, 3157 -&gt; 3250.0, 6702 -&gt; 0.0, 226695 -&gt; 2500.0, 4643 -&gt; 2300.0, 1104 -&gt; 0.0, 3184 -&gt; 950.0, 2508 -&gt; 900.0, 223742 -&gt; 2500.0, 6631 -&gt; 3300.0, 8001 -&gt; 2500.0, 3036 -&gt; 3100.0, 663059 -&gt; 2500.0, 9187 -&gt; 0.0, 6700 -&gt; 2675.0, 323190 -&gt; 2600.0, 6616 -&gt; 2250.0, 3870 -&gt; 400.0, 3211 -&gt; 1250.0, 1521 -&gt; 0.0, 9272 -&gt; 0.0, 4628 -&gt; 2750.0, 222502 -&gt; 2500.0, 226673 -&gt; 2500.0, 3011 -&gt; 1900.0, 3857 -&gt; 400.0, 224637 -&gt; 2500.0, 4629 -&gt; 3000.0, 446691 -&gt; 1000.0, 221011 -&gt; 500.0, 223156 -&gt; 2500.0, 447100 -&gt; 1000.0, 447108 -&gt; 1000.0, 1057 -&gt; 850.0, 226692 -&gt; 2500.0, 223504 -&gt; 2500.0, 9308 -&gt; 0.0, 223002 -&gt; 2500.0, 323050 -&gt; 2300.0, 9175 -&gt; 0.0, 223095 -&gt; 2500.0, 443062 -&gt; 1000.0, 4016 -&gt; 2500.0, 1042 -&gt; 250.0, 1502 -&gt; 0.0, 3742 -&gt; 2900.0, 223152 -&gt; 2500.0, 2150 -&gt; 0.0, 3814 -&gt; 3000.0, 6696 -&gt; 2750.0, 1519 -&gt; 0.0, 3867 -&gt; 400.0, 222503 -&gt; 2500.0, 220010 -&gt; 750.0, 663039 -&gt; 2500.0, 3134 -&gt; 1000.0, 223115 -&gt; 2500.0, 2015 -&gt; 700.0, 6620 -&gt; 2200.0, 9177 -&gt; 0.0, 223006 -&gt; 500.0, 9190 -&gt; 0.0, 9277 -&gt; 0.0, 3877 -&gt; 400.0, 3600 -&gt; 0.0, 9301 -&gt; 0.0, 3144 -&gt; 600.0, 4402 -&gt; 2950.0, 1027 -&gt; 300.0, 3050 -&gt; 2200.0, 226653 -&gt; 2500.0, 3033 -&gt; 3300.0, 1106 -&gt; 450.0, 3137 -&gt; 3000.0, 3065 -&gt; 2700.0, 3349 -&gt; 0.0, 226621 -&gt; 2500.0, 223031 -&gt; 2500.0, 6656 -&gt; 2865.0, 3105 -&gt; 1100.0, 223165 -&gt; 2500.0, 6677 -&gt; 1100.0, 3862 -&gt; 400.0, 6691 -&gt; 2950.0, 224645 -&gt; 2500.0, 4636 -&gt; 2765.0, 3102 -&gt; 3000.0, 1006 -&gt; 300.0, 221043 -&gt; 500.0, 3119 -&gt; 2400.0, 3078 -&gt; 3333.0, 3916 -&gt; 800.0, 3001 -&gt; 2300.0, 4012 -&gt; 3000.0, 226617 -&gt; 2500.0, 3176 -&gt; 1400.0, 3087 -&gt; 2700.0, 228020 -&gt; 2500.0, 3143 -&gt; 2700.0, 3179 -&gt; 2500.0, 223009 -&gt; 500.0, 3094 -&gt; 2650.0, 3010 -&gt; 900.0, 664644 -&gt; 2500.0, 9288 -&gt; 0.0, 223026 -&gt; 2500.0, 1039 -&gt; 350.0, 223112 -&gt; 500.0, 664011 -&gt; 2500.0, 1028 -&gt; 400.0, 1082 -&gt; 350.0, 228003 -&gt; 9000.0, 3032 -&gt; 3000.0, 6630 -&gt; 3200.0, 2504 -&gt; 2900.0, 223161 -&gt; 2500.0, 224401 -&gt; 2500.0, 3115 -&gt; 2900.0, 2052 -&gt; 0.0, 2140 -&gt; 500.0, 3083 -&gt; 3100.0, 220003 -&gt; 2000.0, 222065 -&gt; 2500.0, 3222 -&gt; 2300.0, 443090 -&gt; 1000.0, 3109 -&gt; 2300.0, 3074 -&gt; 3300.0, 3005 -&gt; 1000.0, 222022 -&gt; 250.0, 3364 -&gt; 0.0, 3903 -&gt; 0.0, 4644 -&gt; 2865.0, 9176 -&gt; 0.0, 3173 -&gt; 1750.0, 1054 -&gt; 450.0, 223102 -&gt; 2500.0, 1035 -&gt; 350.0, 9171 -&gt; 0.0, 447112 -&gt; 1000.0, 3147 -&gt; 1300.0, 224633 -&gt; 2500.0, 3802 -&gt; 1200.0, 226696 -&gt; 2500.0, 9284 -&gt; 0.0, 3190 -&gt; 2200.0, 6610 -&gt; 3100.0, 1515 -&gt; 0.0, 223087 -&gt; 2500.0, 1026 -&gt; 850.0, 3508 -&gt; 2900.0, 9168 -&gt; 0.0, 443061 -&gt; 1000.0, 223193 -&gt; 2500.0, 4004 -&gt; 2800.0, 447104 -&gt; 1000.0, 2144 -&gt; 500.0, 1510 -&gt; 0.0, 223091 -&gt; 2500.0, 220007 -&gt; 4000.0, 3042 -&gt; 2900.0, 6699 -&gt; 3000.0, 226609 -&gt; 2500.0, 9181 -&gt; 0.0, 9404 -&gt; 0.0, 3111 -&gt; 1250.0, 4017 -&gt; 2500.0, 663058 -&gt; 2500.0, 224629 -&gt; 2500.0, 1103 -&gt; 450.0, 3871 -&gt; 400.0, 2033 -&gt; 500.0, 3158 -&gt; 900.0, 223119 -&gt; 2500.0, 223032 -&gt; 2500.0, 444644 -&gt; 1000.0, 3070 -&gt; 400.0, 3504 -&gt; 2200.0, 226662 -&gt; 2500.0, 3086 -&gt; 1200.0, 223124 -&gt; 2500.0, 9189 -&gt; 0.0, 228006 -&gt; 3000.0, 3599 -&gt; 0.0, 323002 -&gt; 2600.0, 6617 -&gt; 2200.0, 223065 -&gt; 2500.0, 1520 -&gt; 0.0, 222504 -&gt; 2500.0, 2161 -&gt; 1000.0, 1503 -&gt; 0.0, 323070 -&gt; 400.0, 3023 -&gt; 1050.0, 3118 -&gt; 2700.0, 326617 -&gt; 2900.0, 9178 -&gt; 0.0, 3002 -&gt; 2400.0, 3340 -&gt; 0.0, 3123 -&gt; 800.0, 220008 -&gt; 750.0, 223005 -&gt; 500.0, 447122 -&gt; 1000.0, 9290 -&gt; 0.0, 443060 -&gt; 1000.0, 3170 -&gt; 1500.0, 9285 -&gt; 0.0, 226698 -&gt; 2500.0, 3051 -&gt; 1200.0, 228001 -&gt; 2500.0, 3077 -&gt; 1200.0, 4645 -&gt; 3200.0, 6667 -&gt; 2600.0, 6673 -&gt; 3000.0, 221057 -&gt; 450.0, 226630 -&gt; 1000.0, 3330 -&gt; 0.0, 1058 -&gt; 1200.0, 1107 -&gt; 450.0, 2055 -&gt; 75.0, 224636 -&gt; 2500.0, 664403 -&gt; 2500.0, 3091 -&gt; 2800.0, 3302 -&gt; 3000.0, 8010 -&gt; 2900.0, 9307 -&gt; 0.0, 224646 -&gt; 2500.0, 223042 -&gt; 2500.0, 2422 -&gt; 300.0, 1011 -&gt; 900.0, 9185 -&gt; 0.0, 223146 -&gt; 2500.0, 1043 -&gt; 700.0, 226701 -&gt; 2500.0, 3066 -&gt; 800.0, 663172 -&gt; 2500.0, 2065 -&gt; 2200.0, 663146 -&gt; 2500.0, 443080 -&gt; 1000.0, 326657 -&gt; 2600.0, 2151 -&gt; 50.0, 3155 -&gt; 1300.0, 9302 -&gt; 0.0, 4635 -&gt; 1265.0, 4401 -&gt; 2800.0, 226620 -&gt; 2500.0, 3165 -&gt; 2850.0, 9280 -&gt; 0.0, 226657 -&gt; 2500.0, 6692 -&gt; 2900.0, 6660 -&gt; 900.0, 9407 -&gt; 0.0, 223074 -&gt; 2500.0, 447120 -&gt; 1000.0, 3133 -&gt; 1050.0, 9174 -&gt; 0.0, 9275 -&gt; 0.0, 3073 -&gt; 3000.0, 1029 -&gt; 300.0, 3006 -&gt; 1100.0, 446667 -&gt; 1000.0, 3110 -&gt; 2500.0, 2139 -&gt; 500.0, 126697 -&gt; 2950.0, 3142 -&gt; 2800.0, 3348 -&gt; 0.0, 222051 -&gt; 500.0, 6029 -&gt; 1100.0, 663064 -&gt; 900.0, 6609 -&gt; 3100.0, 447121 -&gt; 1000.0, 2051 -&gt; 950.0, 226656 -&gt; 2500.0, 667112 -&gt; 2500.0, 2022 -&gt; 250.0, 3363 -&gt; 0.0, 323042 -&gt; 2900.0, 1102 -&gt; 450.0, 3876 -&gt; 400.0, 6698 -&gt; 2850.0, 223184 -&gt; 500.0, 3009 -&gt; 1000.0, 443054 -&gt; 1000.0, 3031 -&gt; 3450.0, 6672 -&gt; 3000.0, 223107 -&gt; 2500.0, 3161 -&gt; 3100.0, 2503 -&gt; 2800.0, 3146 -&gt; 3250.0, 1018 -&gt; 600.0, 9276 -&gt; 0.0, 9403 -&gt; 0.0, 3193 -&gt; 3150.0, 4013 -&gt; 3000.0, 323121 -&gt; 2400.0, 223139 -&gt; 2500.0, 447116 -&gt; 1000.0, 223118 -&gt; 2500.0, 9408 -&gt; 0.0, 1509 -&gt; 0.0, 8020 -&gt; 2650.0, 6664 -&gt; 2800.0, 1516 -&gt; 0.0, 447103 -&gt; 1000.0, 2143 -&gt; 500.0, 223109 -&gt; 2500.0, 228002 -&gt; 6000.0, 224004 -&gt; 2500.0, 226693 -&gt; 1000.0, 223172 -&gt; 2500.0, 4630 -&gt; 1100.0, 223050 -&gt; 2500.0, 326616 -&gt; 2600.0, 223508 -&gt; 2500.0, 220009 -&gt; 750.0, 446671 -&gt; 1000.0, 3112 -&gt; 950.0, 3082 -&gt; 1000.0, 6621 -&gt; 2500.0, 446632 -&gt; 1000.0, 4641 -&gt; 350.0, 1053 -&gt; 900.0, 226675 -&gt; 2500.0, 9281 -&gt; 0.0, 3114 -&gt; 600.0, 447109 -&gt; 1000.0, 3026 -&gt; 3200.0, 220004 -&gt; 2000.0, 6653 -&gt; 3000.0, 3174 -&gt; 1700.0, 226610 -&gt; 2500.0, 323109 -&gt; 2900.0, 4003 -&gt; 1600.0, 1038 -&gt; 1300.0, 326621 -&gt; 2900.0, 223001 -&gt; 2500.0, 223033 -&gt; 2500.0, 3801 -&gt; 800.0, 3041 -&gt; 1500.0, 3095 -&gt; 3100.0, 3853 -&gt; 400.0, 6701 -&gt; 2700.0, 3107 -&gt; 2300.0, 326620 -&gt; 2600.0, 3124 -&gt; 3000.0, 6333 -&gt; 3300.0, 2145 -&gt; 0.0, 226035 -&gt; 2500.0, 3117 -&gt; 1000.0, 323119 -&gt; 2400.0, 3071 -&gt; 3000.0, 226697 -&gt; 2500.0, 3398 -&gt; 0.0, 2056 -&gt; 40.0, 220005 -&gt; 2000.0, 1052 -&gt; 400.0, 1506 -&gt; 0.0, 1504 -&gt; 0.0, 223046 -&gt; 2500.0, 223075 -&gt; 2500.0, 443079 -&gt; 1000.0, 3024 -&gt; 900.0, 9406 -&gt; 0.0, 9274 -&gt; 0.0, 223068 -&gt; 2500.0, 3156 -&gt; 3100.0, 223142 -&gt; 2500.0, 226631 -&gt; 2500.0, 323040 -&gt; 2900.0, 3400 -&gt; 0.0, 224005 -&gt; 2500.0, 9306 -&gt; 0.0, 3171 -&gt; 1400.0, 1517 -&gt; 0.0, 4646 -&gt; 2800.0, 221058 -&gt; 500.0, 3039 -&gt; 2900.0, 447123 -&gt; 1000.0, 223110 -&gt; 2500.0, 3139 -&gt; 3200.0, 9279 -&gt; 0.0, 9192 -&gt; 0.0, 223078 -&gt; 2500.0, 667101 -&gt; 2500.0, 3067 -&gt; 800.0, 447113 -&gt; 1000.0, 221031 -&gt; 500.0, 3864 -&gt; 400.0, 443064 -&gt; 1000.0, 224403 -&gt; 2500.0, 1101 -&gt; 450.0, 221026 -&gt; 500.0, 3748 -&gt; 3300.0, 667666 -&gt; 3000.0, 3003 -&gt; 2900.0, 6694 -&gt; 3000.0, 223036 -&gt; 2500.0, 1508 -&gt; 0.0, 443193 -&gt; 1000.0, 4010 -&gt; 2500.0, 1523 -&gt; 0.0, 3859 -&gt; 400.0, 9179 -&gt; 0.0, 2152 -&gt; 50.0, 3085 -&gt; 2650.0, 443083 -&gt; 1000.0, 323504 -&gt; 2600.0, 222141 -&gt; 500.0, 3430 -&gt; 2500.0, 2162 -&gt; 1000.0, 223100 -&gt; 2500.0, 9173 -&gt; 0.0, 228004 -&gt; 6000.0, 447119 -&gt; 1000.0, 9289 -&gt; 0.0, 2019 -&gt; 1100.0, 3181 -&gt; 3000.0, 228005 -&gt; 3000.0, 447106 -&gt; 1000.0, 2421 -&gt; 1600.0, 223089 -&gt; 2500.0, 1512 -&gt; 0.0, 221053 -&gt; 500.0, 6693 -&gt; 2850.0, 3865 -&gt; 400.0, 223040 -&gt; 2500.0, 223222 -&gt; 2500.0, 2003 -&gt; 50.0, 2142 -&gt; 500.0, 4014 -&gt; 3000.0, 221038 -&gt; 1300.0, 223121 -&gt; 2500.0, 3860 -&gt; 400.0, 9183 -&gt; 0.0, 3100 -&gt; 2900.0, 6671 -&gt; 3500.0, 2050 -&gt; 500.0, 3145 -&gt; 1100.0, 223004 -&gt; 2500.0, 9271 -&gt; 0.0, 7050 -&gt; 0.0, 3850 -&gt; 400.0, 223153 -&gt; 2500.0, 1033 -&gt; 400.0, 447102 -&gt; 1000.0, 226655 -&gt; 2500.0, 9293 -&gt; 0.0, 447115 -&gt; 1000.0, 223057 -&gt; 2500.0, 3177 -&gt; 950.0, 226672 -&gt; 2500.0, 447105 -&gt; 1000.0, 223181 -&gt; 2500.0, 443055 -&gt; 1000.0, 1056 -&gt; 400.0, 2021 -&gt; 1150.0, 447110 -&gt; 1000.0, 323107 -&gt; 2800.0, 3128 -&gt; 2900.0, 226616 -&gt; 2500.0, 3057 -&gt; 900.0, 3869 -&gt; 400.0, 6697 -&gt; 3000.0, 9193 -&gt; 0.0, 224628 -&gt; 2500.0, 1004 -&gt; 200.0, 663060 -&gt; 2500.0, 324005 -&gt; 2750.0, 2138 -&gt; 500.0, 2502 -&gt; 2800.0, 223302 -&gt; 2500.0, 1500 -&gt; 0.0, 9402 -&gt; 0.0, 3020 -&gt; 1100.0, 3076 -&gt; 800.0, 3113 -&gt; 900.0, 9188 -&gt; 0.0, 328020 -&gt; 2850.0, 4642 -&gt; 900.0, 223190 -&gt; 2500.0, 223053 -&gt; 2500.0, 223085 -&gt; 2500.0, 323110 -&gt; 2700.0, 9303 -&gt; 0.0, 6632 -&gt; 3450.0, 6035 -&gt; 3000.0, 3047 -&gt; 1200.0, 223158 -&gt; 500.0, 3035 -&gt; 1450.0, 3901 -&gt; 0.0, 3013 -&gt; 900.0, 323075 -&gt; 2650.0, 226694 -&gt; 2500.0, 223011 -&gt; 1900.0, 3854 -&gt; 400.0, 1037 -&gt; 875.0, 226676 -&gt; 2500.0)\n",
       "val costMapCol: org.apache.spark.sql.Column = HashMap(2163 -&gt; 1000.0, 223047 -&gt; 500.0, 1036 -&gt; 350.0, 223084 -&gt; 2500.0, 9273 -&gt; 0.0, 2031 -&gt; 150.0, 9180 -&gt; 0.0, 1031 -&gt; 800.0, 3863 -&gt; 400.0, 1083 -&gt; 450.0, 4015 -&gt; 2500.0, 6690 -&gt; 775.0, 9305 -&gt; 0.0, 1501 -&gt; 0.0, 9405 -&gt; 0.0, 3053 -&gt; 3200.0, 447118 -&gt; 1000.0, 4005 -&gt; 2250.0, 3399 -&gt; 0.0, 226632 -&gt; 2500.0, 1105 -&gt; 450.0, 447107 -&gt; 1000.0, 446656 -&gt; 1000.0, 3172 -&gt; 1600.0, 663056 -&gt; 2500.0, 226333 -&gt; 2500.0, 3858 -&gt; 400.0, 228008 -&gt; 9000.0, 3012 -&gt; 900.0, 443063 -&gt; 1000.0, 226691 -&gt; 2500.0, 9400 -&gt; 0.0, 323004 -&gt; 2900.0, 3072 -&gt; 3400.0, 220011 -&gt; 750.0, 1522 -&gt; 0.0, 6695 -&gt; 2500.0, 3040 -&gt; 2900.0, 3153 -&gt; 3200.0, 226664 -&gt; 2500.0, 446693 -&gt; 1000.0, 3108 -&gt; 850.0, 9184 -&gt; 0.0, 220001 -&gt; 2000.0, 443069 -&gt; 1000.0, 6665 -&gt; 3200.0, 3175 -&gt; 1600.0, 2141 -&gt; 300.0, 223072 -&gt; 2500.0, 3121 -&gt; 2400.0, 226667 -&gt; 2500.0, 9278 -&gt; 0.0, 2146 -&gt; 0.0, 4633 -&gt; 3100.0, 223116 -&gt; 2500.0, 4403 -&gt; 7187.0, 3004 -&gt; 2900.0, 6675 -&gt; 2650.0, 3135 -&gt; 3000.0, 4011 -&gt; 2500.0, 3044 -&gt; 1100.0, 223094 -&gt; 2500.0, 6655 -&gt; 2750.0, 4638 -&gt; 1100.0, 223748 -&gt; 2500.0, 223003 -&gt; 2500.0, 1507 -&gt; 0.0, 1001 -&gt; 300.0, 2010 -&gt; 50.0, 223111 -&gt; 500.0, 3140 -&gt; 1300.0, 1518 -&gt; 0.0, 223185 -&gt; 500.0, 9292 -&gt; 0.0, 443058 -&gt; 1000.0, 223067 -&gt; 500.0, 223143 -&gt; 2500.0, 2020 -&gt; 1337.0, 3513 -&gt; 0.0, 4637 -&gt; 3000.0, 1055 -&gt; 450.0, 9300 -&gt; 0.0, 220000 -&gt; 750.0, 3131 -&gt; 2300.0, 3116 -&gt; 2600.0, 3046 -&gt; 2650.0, 223105 -&gt; 500.0, 2501 -&gt; 3300.0, 220006 -&gt; 2000.0, 6676 -&gt; 3000.0, 223814 -&gt; 2500.0, 322065 -&gt; 2600.0, 3089 -&gt; 3500.0, 6662 -&gt; 2900.0, 226671 -&gt; 2500.0, 3803 -&gt; 1300.0, 3855 -&gt; 400.0, 323222 -&gt; 2800.0, 9172 -&gt; 0.0, 9287 -&gt; 0.0, 1511 -&gt; 0.0, 663193 -&gt; 2500.0, 2420 -&gt; 1600.0, 2049 -&gt; 500.0, 223071 -&gt; 2500.0, 667109 -&gt; 2500.0, 3084 -&gt; 3000.0, 223073 -&gt; 2500.0, 3902 -&gt; 0.0, 443081 -&gt; 1000.0, 3866 -&gt; 400.0, 444636 -&gt; 1000.0, 2403 -&gt; 0.0, 223020 -&gt; 500.0, 4632 -&gt; 1600.0, 444637 -&gt; 1000.0, 226699 -&gt; 2500.0, 9304 -&gt; 0.0, 223137 -&gt; 2500.0, 9283 -&gt; 0.0, 3075 -&gt; 2450.0, 447114 -&gt; 1000.0, 220002 -&gt; 2000.0, 223135 -&gt; 2500.0, 3152 -&gt; 2650.0, 224644 -&gt; 2500.0, 3851 -&gt; 400.0, 443056 -&gt; 1000.0, 9401 -&gt; 0.0, 6670 -&gt; 1300.0, 223039 -&gt; 2500.0, 1040 -&gt; 350.0, 6657 -&gt; 2600.0, 447111 -&gt; 2500.0, 226665 -&gt; 2500.0, 323003 -&gt; 2900.0, 3068 -&gt; 2700.0, 443059 -&gt; 1000.0, 223157 -&gt; 2500.0, 447101 -&gt; 1000.0, 223177 -&gt; 500.0, 3157 -&gt; 3250.0, 6702 -&gt; 0.0, 226695 -&gt; 2500.0, 4643 -&gt; 2300.0, 1104 -&gt; 0.0, 3184 -&gt; 950.0, 2508 -&gt; 900.0, 223742 -&gt; 2500.0, 6631 -&gt; 3300.0, 8001 -&gt; 2500.0, 3036 -&gt; 3100.0, 663059 -&gt; 2500.0, 9187 -&gt; 0.0, 6700 -&gt; 2675.0, 323190 -&gt; 2600.0, 6616 -&gt; 2250.0, 3870 -&gt; 400.0, 3211 -&gt; 1250.0, 1521 -&gt; 0.0, 9272 -&gt; 0.0, 4628 -&gt; 2750.0, 222502 -&gt; 2500.0, 226673 -&gt; 2500.0, 3011 -&gt; 1900.0, 3857 -&gt; 400.0, 224637 -&gt; 2500.0, 4629 -&gt; 3000.0, 446691 -&gt; 1000.0, 221011 -&gt; 500.0, 223156 -&gt; 2500.0, 447100 -&gt; 1000.0, 447108 -&gt; 1000.0, 1057 -&gt; 850.0, 226692 -&gt; 2500.0, 223504 -&gt; 2500.0, 9308 -&gt; 0.0, 223002 -&gt; 2500.0, 323050 -&gt; 2300.0, 9175 -&gt; 0.0, 223095 -&gt; 2500.0, 443062 -&gt; 1000.0, 4016 -&gt; 2500.0, 1042 -&gt; 250.0, 1502 -&gt; 0.0, 3742 -&gt; 2900.0, 223152 -&gt; 2500.0, 2150 -&gt; 0.0, 3814 -&gt; 3000.0, 6696 -&gt; 2750.0, 1519 -&gt; 0.0, 3867 -&gt; 400.0, 222503 -&gt; 2500.0, 220010 -&gt; 750.0, 663039 -&gt; 2500.0, 3134 -&gt; 1000.0, 223115 -&gt; 2500.0, 2015 -&gt; 700.0, 6620 -&gt; 2200.0, 9177 -&gt; 0.0, 223006 -&gt; 500.0, 9190 -&gt; 0.0, 9277 -&gt; 0.0, 3877 -&gt; 400.0, 3600 -&gt; 0.0, 9301 -&gt; 0.0, 3144 -&gt; 600.0, 4402 -&gt; 2950.0, 1027 -&gt; 300.0, 3050 -&gt; 2200.0, 226653 -&gt; 2500.0, 3033 -&gt; 3300.0, 1106 -&gt; 450.0, 3137 -&gt; 3000.0, 3065 -&gt; 2700.0, 3349 -&gt; 0.0, 226621 -&gt; 2500.0, 223031 -&gt; 2500.0, 6656 -&gt; 2865.0, 3105 -&gt; 1100.0, 223165 -&gt; 2500.0, 6677 -&gt; 1100.0, 3862 -&gt; 400.0, 6691 -&gt; 2950.0, 224645 -&gt; 2500.0, 4636 -&gt; 2765.0, 3102 -&gt; 3000.0, 1006 -&gt; 300.0, 221043 -&gt; 500.0, 3119 -&gt; 2400.0, 3078 -&gt; 3333.0, 3916 -&gt; 800.0, 3001 -&gt; 2300.0, 4012 -&gt; 3000.0, 226617 -&gt; 2500.0, 3176 -&gt; 1400.0, 3087 -&gt; 2700.0, 228020 -&gt; 2500.0, 3143 -&gt; 2700.0, 3179 -&gt; 2500.0, 223009 -&gt; 500.0, 3094 -&gt; 2650.0, 3010 -&gt; 900.0, 664644 -&gt; 2500.0, 9288 -&gt; 0.0, 223026 -&gt; 2500.0, 1039 -&gt; 350.0, 223112 -&gt; 500.0, 664011 -&gt; 2500.0, 1028 -&gt; 400.0, 1082 -&gt; 350.0, 228003 -&gt; 9000.0, 3032 -&gt; 3000.0, 6630 -&gt; 3200.0, 2504 -&gt; 2900.0, 223161 -&gt; 2500.0, 224401 -&gt; 2500.0, 3115 -&gt; 2900.0, 2052 -&gt; 0.0, 2140 -&gt; 500.0, 3083 -&gt; 3100.0, 220003 -&gt; 2000.0, 222065 -&gt; 2500.0, 3222 -&gt; 2300.0, 443090 -&gt; 1000.0, 3109 -&gt; 2300.0, 3074 -&gt; 3300.0, 3005 -&gt; 1000.0, 222022 -&gt; 250.0, 3364 -&gt; 0.0, 3903 -&gt; 0.0, 4644 -&gt; 2865.0, 9176 -&gt; 0.0, 3173 -&gt; 1750.0, 1054 -&gt; 450.0, 223102 -&gt; 2500.0, 1035 -&gt; 350.0, 9171 -&gt; 0.0, 447112 -&gt; 1000.0, 3147 -&gt; 1300.0, 224633 -&gt; 2500.0, 3802 -&gt; 1200.0, 226696 -&gt; 2500.0, 9284 -&gt; 0.0, 3190 -&gt; 2200.0, 6610 -&gt; 3100.0, 1515 -&gt; 0.0, 223087 -&gt; 2500.0, 1026 -&gt; 850.0, 3508 -&gt; 2900.0, 9168 -&gt; 0.0, 443061 -&gt; 1000.0, 223193 -&gt; 2500.0, 4004 -&gt; 2800.0, 447104 -&gt; 1000.0, 2144 -&gt; 500.0, 1510 -&gt; 0.0, 223091 -&gt; 2500.0, 220007 -&gt; 4000.0, 3042 -&gt; 2900.0, 6699 -&gt; 3000.0, 226609 -&gt; 2500.0, 9181 -&gt; 0.0, 9404 -&gt; 0.0, 3111 -&gt; 1250.0, 4017 -&gt; 2500.0, 663058 -&gt; 2500.0, 224629 -&gt; 2500.0, 1103 -&gt; 450.0, 3871 -&gt; 400.0, 2033 -&gt; 500.0, 3158 -&gt; 900.0, 223119 -&gt; 2500.0, 223032 -&gt; 2500.0, 444644 -&gt; 1000.0, 3070 -&gt; 400.0, 3504 -&gt; 2200.0, 226662 -&gt; 2500.0, 3086 -&gt; 1200.0, 223124 -&gt; 2500.0, 9189 -&gt; 0.0, 228006 -&gt; 3000.0, 3599 -&gt; 0.0, 323002 -&gt; 2600.0, 6617 -&gt; 2200.0, 223065 -&gt; 2500.0, 1520 -&gt; 0.0, 222504 -&gt; 2500.0, 2161 -&gt; 1000.0, 1503 -&gt; 0.0, 323070 -&gt; 400.0, 3023 -&gt; 1050.0, 3118 -&gt; 2700.0, 326617 -&gt; 2900.0, 9178 -&gt; 0.0, 3002 -&gt; 2400.0, 3340 -&gt; 0.0, 3123 -&gt; 800.0, 220008 -&gt; 750.0, 223005 -&gt; 500.0, 447122 -&gt; 1000.0, 9290 -&gt; 0.0, 443060 -&gt; 1000.0, 3170 -&gt; 1500.0, 9285 -&gt; 0.0, 226698 -&gt; 2500.0, 3051 -&gt; 1200.0, 228001 -&gt; 2500.0, 3077 -&gt; 1200.0, 4645 -&gt; 3200.0, 6667 -&gt; 2600.0, 6673 -&gt; 3000.0, 221057 -&gt; 450.0, 226630 -&gt; 1000.0, 3330 -&gt; 0.0, 1058 -&gt; 1200.0, 1107 -&gt; 450.0, 2055 -&gt; 75.0, 224636 -&gt; 2500.0, 664403 -&gt; 2500.0, 3091 -&gt; 2800.0, 3302 -&gt; 3000.0, 8010 -&gt; 2900.0, 9307 -&gt; 0.0, 224646 -&gt; 2500.0, 223042 -&gt; 2500.0, 2422 -&gt; 300.0, 1011 -&gt; 900.0, 9185 -&gt; 0.0, 223146 -&gt; 2500.0, 1043 -&gt; 700.0, 226701 -&gt; 2500.0, 3066 -&gt; 800.0, 663172 -&gt; 2500.0, 2065 -&gt; 2200.0, 663146 -&gt; 2500.0, 443080 -&gt; 1000.0, 326657 -&gt; 2600.0, 2151 -&gt; 50.0, 3155 -&gt; 1300.0, 9302 -&gt; 0.0, 4635 -&gt; 1265.0, 4401 -&gt; 2800.0, 226620 -&gt; 2500.0, 3165 -&gt; 2850.0, 9280 -&gt; 0.0, 226657 -&gt; 2500.0, 6692 -&gt; 2900.0, 6660 -&gt; 900.0, 9407 -&gt; 0.0, 223074 -&gt; 2500.0, 447120 -&gt; 1000.0, 3133 -&gt; 1050.0, 9174 -&gt; 0.0, 9275 -&gt; 0.0, 3073 -&gt; 3000.0, 1029 -&gt; 300.0, 3006 -&gt; 1100.0, 446667 -&gt; 1000.0, 3110 -&gt; 2500.0, 2139 -&gt; 500.0, 126697 -&gt; 2950.0, 3142 -&gt; 2800.0, 3348 -&gt; 0.0, 222051 -&gt; 500.0, 6029 -&gt; 1100.0, 663064 -&gt; 900.0, 6609 -&gt; 3100.0, 447121 -&gt; 1000.0, 2051 -&gt; 950.0, 226656 -&gt; 2500.0, 667112 -&gt; 2500.0, 2022 -&gt; 250.0, 3363 -&gt; 0.0, 323042 -&gt; 2900.0, 1102 -&gt; 450.0, 3876 -&gt; 400.0, 6698 -&gt; 2850.0, 223184 -&gt; 500.0, 3009 -&gt; 1000.0, 443054 -&gt; 1000.0, 3031 -&gt; 3450.0, 6672 -&gt; 3000.0, 223107 -&gt; 2500.0, 3161 -&gt; 3100.0, 2503 -&gt; 2800.0, 3146 -&gt; 3250.0, 1018 -&gt; 600.0, 9276 -&gt; 0.0, 9403 -&gt; 0.0, 3193 -&gt; 3150.0, 4013 -&gt; 3000.0, 323121 -&gt; 2400.0, 223139 -&gt; 2500.0, 447116 -&gt; 1000.0, 223118 -&gt; 2500.0, 9408 -&gt; 0.0, 1509 -&gt; 0.0, 8020 -&gt; 2650.0, 6664 -&gt; 2800.0, 1516 -&gt; 0.0, 447103 -&gt; 1000.0, 2143 -&gt; 500.0, 223109 -&gt; 2500.0, 228002 -&gt; 6000.0, 224004 -&gt; 2500.0, 226693 -&gt; 1000.0, 223172 -&gt; 2500.0, 4630 -&gt; 1100.0, 223050 -&gt; 2500.0, 326616 -&gt; 2600.0, 223508 -&gt; 2500.0, 220009 -&gt; 750.0, 446671 -&gt; 1000.0, 3112 -&gt; 950.0, 3082 -&gt; 1000.0, 6621 -&gt; 2500.0, 446632 -&gt; 1000.0, 4641 -&gt; 350.0, 1053 -&gt; 900.0, 226675 -&gt; 2500.0, 9281 -&gt; 0.0, 3114 -&gt; 600.0, 447109 -&gt; 1000.0, 3026 -&gt; 3200.0, 220004 -&gt; 2000.0, 6653 -&gt; 3000.0, 3174 -&gt; 1700.0, 226610 -&gt; 2500.0, 323109 -&gt; 2900.0, 4003 -&gt; 1600.0, 1038 -&gt; 1300.0, 326621 -&gt; 2900.0, 223001 -&gt; 2500.0, 223033 -&gt; 2500.0, 3801 -&gt; 800.0, 3041 -&gt; 1500.0, 3095 -&gt; 3100.0, 3853 -&gt; 400.0, 6701 -&gt; 2700.0, 3107 -&gt; 2300.0, 326620 -&gt; 2600.0, 3124 -&gt; 3000.0, 6333 -&gt; 3300.0, 2145 -&gt; 0.0, 226035 -&gt; 2500.0, 3117 -&gt; 1000.0, 323119 -&gt; 2400.0, 3071 -&gt; 3000.0, 226697 -&gt; 2500.0, 3398 -&gt; 0.0, 2056 -&gt; 40.0, 220005 -&gt; 2000.0, 1052 -&gt; 400.0, 1506 -&gt; 0.0, 1504 -&gt; 0.0, 223046 -&gt; 2500.0, 223075 -&gt; 2500.0, 443079 -&gt; 1000.0, 3024 -&gt; 900.0, 9406 -&gt; 0.0, 9274 -&gt; 0.0, 223068 -&gt; 2500.0, 3156 -&gt; 3100.0, 223142 -&gt; 2500.0, 226631 -&gt; 2500.0, 323040 -&gt; 2900.0, 3400 -&gt; 0.0, 224005 -&gt; 2500.0, 9306 -&gt; 0.0, 3171 -&gt; 1400.0, 1517 -&gt; 0.0, 4646 -&gt; 2800.0, 221058 -&gt; 500.0, 3039 -&gt; 2900.0, 447123 -&gt; 1000.0, 223110 -&gt; 2500.0, 3139 -&gt; 3200.0, 9279 -&gt; 0.0, 9192 -&gt; 0.0, 223078 -&gt; 2500.0, 667101 -&gt; 2500.0, 3067 -&gt; 800.0, 447113 -&gt; 1000.0, 221031 -&gt; 500.0, 3864 -&gt; 400.0, 443064 -&gt; 1000.0, 224403 -&gt; 2500.0, 1101 -&gt; 450.0, 221026 -&gt; 500.0, 3748 -&gt; 3300.0, 667666 -&gt; 3000.0, 3003 -&gt; 2900.0, 6694 -&gt; 3000.0, 223036 -&gt; 2500.0, 1508 -&gt; 0.0, 443193 -&gt; 1000.0, 4010 -&gt; 2500.0, 1523 -&gt; 0.0, 3859 -&gt; 400.0, 9179 -&gt; 0.0, 2152 -&gt; 50.0, 3085 -&gt; 2650.0, 443083 -&gt; 1000.0, 323504 -&gt; 2600.0, 222141 -&gt; 500.0, 3430 -&gt; 2500.0, 2162 -&gt; 1000.0, 223100 -&gt; 2500.0, 9173 -&gt; 0.0, 228004 -&gt; 6000.0, 447119 -&gt; 1000.0, 9289 -&gt; 0.0, 2019 -&gt; 1100.0, 3181 -&gt; 3000.0, 228005 -&gt; 3000.0, 447106 -&gt; 1000.0, 2421 -&gt; 1600.0, 223089 -&gt; 2500.0, 1512 -&gt; 0.0, 221053 -&gt; 500.0, 6693 -&gt; 2850.0, 3865 -&gt; 400.0, 223040 -&gt; 2500.0, 223222 -&gt; 2500.0, 2003 -&gt; 50.0, 2142 -&gt; 500.0, 4014 -&gt; 3000.0, 221038 -&gt; 1300.0, 223121 -&gt; 2500.0, 3860 -&gt; 400.0, 9183 -&gt; 0.0, 3100 -&gt; 2900.0, 6671 -&gt; 3500.0, 2050 -&gt; 500.0, 3145 -&gt; 1100.0, 223004 -&gt; 2500.0, 9271 -&gt; 0.0, 7050 -&gt; 0.0, 3850 -&gt; 400.0, 223153 -&gt; 2500.0, 1033 -&gt; 400.0, 447102 -&gt; 1000.0, 226655 -&gt; 2500.0, 9293 -&gt; 0.0, 447115 -&gt; 1000.0, 223057 -&gt; 2500.0, 3177 -&gt; 950.0, 226672 -&gt; 2500.0, 447105 -&gt; 1000.0, 223181 -&gt; 2500.0, 443055 -&gt; 1000.0, 1056 -&gt; 400.0, 2021 -&gt; 1150.0, 447110 -&gt; 1000.0, 323107 -&gt; 2800.0, 3128 -&gt; 2900.0, 226616 -&gt; 2500.0, 3057 -&gt; 900.0, 3869 -&gt; 400.0, 6697 -&gt; 3000.0, 9193 -&gt; 0.0, 224628 -&gt; 2500.0, 1004 -&gt; 200.0, 663060 -&gt; 2500.0, 324005 -&gt; 2750.0, 2138 -&gt; 500.0, 2502 -&gt; 2800.0, 223302 -&gt; 2500.0, 1500 -&gt; 0.0, 9402 -&gt; 0.0, 3020 -&gt; 1100.0, 3076 -&gt; 800.0, 3113 -&gt; 900.0, 9188 -&gt; 0.0, 328020 -&gt; 2850.0, 4642 -&gt; 900.0, 223190 -&gt; 2500.0, 223053 -&gt; 2500.0, 223085 -&gt; 2500.0, 323110 -&gt; 2700.0, 9303 -&gt; 0.0, 6632 -&gt; 3450.0, 6035 -&gt; 3000.0, 3047 -&gt; 1200.0, 223158 -&gt; 500.0, 3035 -&gt; 1450.0, 3901 -&gt; 0.0, 3013 -&gt; 900.0, 323075 -&gt; 2650.0, 226694 -&gt; 2500.0, 223011 -&gt; 1900.0, 3854 -&gt; 400.0, 1037 -&gt; 875.0, 226676 -&gt; 2500.0)\n",
       "val playerSignalsWithInv: org.apache.spark.sql.DataFrame = [kafkaKey: string, kafkaTs: timestamp ... 21 more fields]\n",
       "</div>"
      ]
     },
     "metadata": {
      "application/vnd.databricks.v1+output": {
       "addedWidgets": {},
       "arguments": {},
       "data": "<div class=\"ansiout\">val costMapLocal: Map[Long,Double] = HashMap(2163 -&gt; 1000.0, 223047 -&gt; 500.0, 1036 -&gt; 350.0, 223084 -&gt; 2500.0, 9273 -&gt; 0.0, 2031 -&gt; 150.0, 9180 -&gt; 0.0, 1031 -&gt; 800.0, 3863 -&gt; 400.0, 1083 -&gt; 450.0, 4015 -&gt; 2500.0, 6690 -&gt; 775.0, 9305 -&gt; 0.0, 1501 -&gt; 0.0, 9405 -&gt; 0.0, 3053 -&gt; 3200.0, 447118 -&gt; 1000.0, 4005 -&gt; 2250.0, 3399 -&gt; 0.0, 226632 -&gt; 2500.0, 1105 -&gt; 450.0, 447107 -&gt; 1000.0, 446656 -&gt; 1000.0, 3172 -&gt; 1600.0, 663056 -&gt; 2500.0, 226333 -&gt; 2500.0, 3858 -&gt; 400.0, 228008 -&gt; 9000.0, 3012 -&gt; 900.0, 443063 -&gt; 1000.0, 226691 -&gt; 2500.0, 9400 -&gt; 0.0, 323004 -&gt; 2900.0, 3072 -&gt; 3400.0, 220011 -&gt; 750.0, 1522 -&gt; 0.0, 6695 -&gt; 2500.0, 3040 -&gt; 2900.0, 3153 -&gt; 3200.0, 226664 -&gt; 2500.0, 446693 -&gt; 1000.0, 3108 -&gt; 850.0, 9184 -&gt; 0.0, 220001 -&gt; 2000.0, 443069 -&gt; 1000.0, 6665 -&gt; 3200.0, 3175 -&gt; 1600.0, 2141 -&gt; 300.0, 223072 -&gt; 2500.0, 3121 -&gt; 2400.0, 226667 -&gt; 2500.0, 9278 -&gt; 0.0, 2146 -&gt; 0.0, 4633 -&gt; 3100.0, 223116 -&gt; 2500.0, 4403 -&gt; 7187.0, 3004 -&gt; 2900.0, 6675 -&gt; 2650.0, 3135 -&gt; 3000.0, 4011 -&gt; 2500.0, 3044 -&gt; 1100.0, 223094 -&gt; 2500.0, 6655 -&gt; 2750.0, 4638 -&gt; 1100.0, 223748 -&gt; 2500.0, 223003 -&gt; 2500.0, 1507 -&gt; 0.0, 1001 -&gt; 300.0, 2010 -&gt; 50.0, 223111 -&gt; 500.0, 3140 -&gt; 1300.0, 1518 -&gt; 0.0, 223185 -&gt; 500.0, 9292 -&gt; 0.0, 443058 -&gt; 1000.0, 223067 -&gt; 500.0, 223143 -&gt; 2500.0, 2020 -&gt; 1337.0, 3513 -&gt; 0.0, 4637 -&gt; 3000.0, 1055 -&gt; 450.0, 9300 -&gt; 0.0, 220000 -&gt; 750.0, 3131 -&gt; 2300.0, 3116 -&gt; 2600.0, 3046 -&gt; 2650.0, 223105 -&gt; 500.0, 2501 -&gt; 3300.0, 220006 -&gt; 2000.0, 6676 -&gt; 3000.0, 223814 -&gt; 2500.0, 322065 -&gt; 2600.0, 3089 -&gt; 3500.0, 6662 -&gt; 2900.0, 226671 -&gt; 2500.0, 3803 -&gt; 1300.0, 3855 -&gt; 400.0, 323222 -&gt; 2800.0, 9172 -&gt; 0.0, 9287 -&gt; 0.0, 1511 -&gt; 0.0, 663193 -&gt; 2500.0, 2420 -&gt; 1600.0, 2049 -&gt; 500.0, 223071 -&gt; 2500.0, 667109 -&gt; 2500.0, 3084 -&gt; 3000.0, 223073 -&gt; 2500.0, 3902 -&gt; 0.0, 443081 -&gt; 1000.0, 3866 -&gt; 400.0, 444636 -&gt; 1000.0, 2403 -&gt; 0.0, 223020 -&gt; 500.0, 4632 -&gt; 1600.0, 444637 -&gt; 1000.0, 226699 -&gt; 2500.0, 9304 -&gt; 0.0, 223137 -&gt; 2500.0, 9283 -&gt; 0.0, 3075 -&gt; 2450.0, 447114 -&gt; 1000.0, 220002 -&gt; 2000.0, 223135 -&gt; 2500.0, 3152 -&gt; 2650.0, 224644 -&gt; 2500.0, 3851 -&gt; 400.0, 443056 -&gt; 1000.0, 9401 -&gt; 0.0, 6670 -&gt; 1300.0, 223039 -&gt; 2500.0, 1040 -&gt; 350.0, 6657 -&gt; 2600.0, 447111 -&gt; 2500.0, 226665 -&gt; 2500.0, 323003 -&gt; 2900.0, 3068 -&gt; 2700.0, 443059 -&gt; 1000.0, 223157 -&gt; 2500.0, 447101 -&gt; 1000.0, 223177 -&gt; 500.0, 3157 -&gt; 3250.0, 6702 -&gt; 0.0, 226695 -&gt; 2500.0, 4643 -&gt; 2300.0, 1104 -&gt; 0.0, 3184 -&gt; 950.0, 2508 -&gt; 900.0, 223742 -&gt; 2500.0, 6631 -&gt; 3300.0, 8001 -&gt; 2500.0, 3036 -&gt; 3100.0, 663059 -&gt; 2500.0, 9187 -&gt; 0.0, 6700 -&gt; 2675.0, 323190 -&gt; 2600.0, 6616 -&gt; 2250.0, 3870 -&gt; 400.0, 3211 -&gt; 1250.0, 1521 -&gt; 0.0, 9272 -&gt; 0.0, 4628 -&gt; 2750.0, 222502 -&gt; 2500.0, 226673 -&gt; 2500.0, 3011 -&gt; 1900.0, 3857 -&gt; 400.0, 224637 -&gt; 2500.0, 4629 -&gt; 3000.0, 446691 -&gt; 1000.0, 221011 -&gt; 500.0, 223156 -&gt; 2500.0, 447100 -&gt; 1000.0, 447108 -&gt; 1000.0, 1057 -&gt; 850.0, 226692 -&gt; 2500.0, 223504 -&gt; 2500.0, 9308 -&gt; 0.0, 223002 -&gt; 2500.0, 323050 -&gt; 2300.0, 9175 -&gt; 0.0, 223095 -&gt; 2500.0, 443062 -&gt; 1000.0, 4016 -&gt; 2500.0, 1042 -&gt; 250.0, 1502 -&gt; 0.0, 3742 -&gt; 2900.0, 223152 -&gt; 2500.0, 2150 -&gt; 0.0, 3814 -&gt; 3000.0, 6696 -&gt; 2750.0, 1519 -&gt; 0.0, 3867 -&gt; 400.0, 222503 -&gt; 2500.0, 220010 -&gt; 750.0, 663039 -&gt; 2500.0, 3134 -&gt; 1000.0, 223115 -&gt; 2500.0, 2015 -&gt; 700.0, 6620 -&gt; 2200.0, 9177 -&gt; 0.0, 223006 -&gt; 500.0, 9190 -&gt; 0.0, 9277 -&gt; 0.0, 3877 -&gt; 400.0, 3600 -&gt; 0.0, 9301 -&gt; 0.0, 3144 -&gt; 600.0, 4402 -&gt; 2950.0, 1027 -&gt; 300.0, 3050 -&gt; 2200.0, 226653 -&gt; 2500.0, 3033 -&gt; 3300.0, 1106 -&gt; 450.0, 3137 -&gt; 3000.0, 3065 -&gt; 2700.0, 3349 -&gt; 0.0, 226621 -&gt; 2500.0, 223031 -&gt; 2500.0, 6656 -&gt; 2865.0, 3105 -&gt; 1100.0, 223165 -&gt; 2500.0, 6677 -&gt; 1100.0, 3862 -&gt; 400.0, 6691 -&gt; 2950.0, 224645 -&gt; 2500.0, 4636 -&gt; 2765.0, 3102 -&gt; 3000.0, 1006 -&gt; 300.0, 221043 -&gt; 500.0, 3119 -&gt; 2400.0, 3078 -&gt; 3333.0, 3916 -&gt; 800.0, 3001 -&gt; 2300.0, 4012 -&gt; 3000.0, 226617 -&gt; 2500.0, 3176 -&gt; 1400.0, 3087 -&gt; 2700.0, 228020 -&gt; 2500.0, 3143 -&gt; 2700.0, 3179 -&gt; 2500.0, 223009 -&gt; 500.0, 3094 -&gt; 2650.0, 3010 -&gt; 900.0, 664644 -&gt; 2500.0, 9288 -&gt; 0.0, 223026 -&gt; 2500.0, 1039 -&gt; 350.0, 223112 -&gt; 500.0, 664011 -&gt; 2500.0, 1028 -&gt; 400.0, 1082 -&gt; 350.0, 228003 -&gt; 9000.0, 3032 -&gt; 3000.0, 6630 -&gt; 3200.0, 2504 -&gt; 2900.0, 223161 -&gt; 2500.0, 224401 -&gt; 2500.0, 3115 -&gt; 2900.0, 2052 -&gt; 0.0, 2140 -&gt; 500.0, 3083 -&gt; 3100.0, 220003 -&gt; 2000.0, 222065 -&gt; 2500.0, 3222 -&gt; 2300.0, 443090 -&gt; 1000.0, 3109 -&gt; 2300.0, 3074 -&gt; 3300.0, 3005 -&gt; 1000.0, 222022 -&gt; 250.0, 3364 -&gt; 0.0, 3903 -&gt; 0.0, 4644 -&gt; 2865.0, 9176 -&gt; 0.0, 3173 -&gt; 1750.0, 1054 -&gt; 450.0, 223102 -&gt; 2500.0, 1035 -&gt; 350.0, 9171 -&gt; 0.0, 447112 -&gt; 1000.0, 3147 -&gt; 1300.0, 224633 -&gt; 2500.0, 3802 -&gt; 1200.0, 226696 -&gt; 2500.0, 9284 -&gt; 0.0, 3190 -&gt; 2200.0, 6610 -&gt; 3100.0, 1515 -&gt; 0.0, 223087 -&gt; 2500.0, 1026 -&gt; 850.0, 3508 -&gt; 2900.0, 9168 -&gt; 0.0, 443061 -&gt; 1000.0, 223193 -&gt; 2500.0, 4004 -&gt; 2800.0, 447104 -&gt; 1000.0, 2144 -&gt; 500.0, 1510 -&gt; 0.0, 223091 -&gt; 2500.0, 220007 -&gt; 4000.0, 3042 -&gt; 2900.0, 6699 -&gt; 3000.0, 226609 -&gt; 2500.0, 9181 -&gt; 0.0, 9404 -&gt; 0.0, 3111 -&gt; 1250.0, 4017 -&gt; 2500.0, 663058 -&gt; 2500.0, 224629 -&gt; 2500.0, 1103 -&gt; 450.0, 3871 -&gt; 400.0, 2033 -&gt; 500.0, 3158 -&gt; 900.0, 223119 -&gt; 2500.0, 223032 -&gt; 2500.0, 444644 -&gt; 1000.0, 3070 -&gt; 400.0, 3504 -&gt; 2200.0, 226662 -&gt; 2500.0, 3086 -&gt; 1200.0, 223124 -&gt; 2500.0, 9189 -&gt; 0.0, 228006 -&gt; 3000.0, 3599 -&gt; 0.0, 323002 -&gt; 2600.0, 6617 -&gt; 2200.0, 223065 -&gt; 2500.0, 1520 -&gt; 0.0, 222504 -&gt; 2500.0, 2161 -&gt; 1000.0, 1503 -&gt; 0.0, 323070 -&gt; 400.0, 3023 -&gt; 1050.0, 3118 -&gt; 2700.0, 326617 -&gt; 2900.0, 9178 -&gt; 0.0, 3002 -&gt; 2400.0, 3340 -&gt; 0.0, 3123 -&gt; 800.0, 220008 -&gt; 750.0, 223005 -&gt; 500.0, 447122 -&gt; 1000.0, 9290 -&gt; 0.0, 443060 -&gt; 1000.0, 3170 -&gt; 1500.0, 9285 -&gt; 0.0, 226698 -&gt; 2500.0, 3051 -&gt; 1200.0, 228001 -&gt; 2500.0, 3077 -&gt; 1200.0, 4645 -&gt; 3200.0, 6667 -&gt; 2600.0, 6673 -&gt; 3000.0, 221057 -&gt; 450.0, 226630 -&gt; 1000.0, 3330 -&gt; 0.0, 1058 -&gt; 1200.0, 1107 -&gt; 450.0, 2055 -&gt; 75.0, 224636 -&gt; 2500.0, 664403 -&gt; 2500.0, 3091 -&gt; 2800.0, 3302 -&gt; 3000.0, 8010 -&gt; 2900.0, 9307 -&gt; 0.0, 224646 -&gt; 2500.0, 223042 -&gt; 2500.0, 2422 -&gt; 300.0, 1011 -&gt; 900.0, 9185 -&gt; 0.0, 223146 -&gt; 2500.0, 1043 -&gt; 700.0, 226701 -&gt; 2500.0, 3066 -&gt; 800.0, 663172 -&gt; 2500.0, 2065 -&gt; 2200.0, 663146 -&gt; 2500.0, 443080 -&gt; 1000.0, 326657 -&gt; 2600.0, 2151 -&gt; 50.0, 3155 -&gt; 1300.0, 9302 -&gt; 0.0, 4635 -&gt; 1265.0, 4401 -&gt; 2800.0, 226620 -&gt; 2500.0, 3165 -&gt; 2850.0, 9280 -&gt; 0.0, 226657 -&gt; 2500.0, 6692 -&gt; 2900.0, 6660 -&gt; 900.0, 9407 -&gt; 0.0, 223074 -&gt; 2500.0, 447120 -&gt; 1000.0, 3133 -&gt; 1050.0, 9174 -&gt; 0.0, 9275 -&gt; 0.0, 3073 -&gt; 3000.0, 1029 -&gt; 300.0, 3006 -&gt; 1100.0, 446667 -&gt; 1000.0, 3110 -&gt; 2500.0, 2139 -&gt; 500.0, 126697 -&gt; 2950.0, 3142 -&gt; 2800.0, 3348 -&gt; 0.0, 222051 -&gt; 500.0, 6029 -&gt; 1100.0, 663064 -&gt; 900.0, 6609 -&gt; 3100.0, 447121 -&gt; 1000.0, 2051 -&gt; 950.0, 226656 -&gt; 2500.0, 667112 -&gt; 2500.0, 2022 -&gt; 250.0, 3363 -&gt; 0.0, 323042 -&gt; 2900.0, 1102 -&gt; 450.0, 3876 -&gt; 400.0, 6698 -&gt; 2850.0, 223184 -&gt; 500.0, 3009 -&gt; 1000.0, 443054 -&gt; 1000.0, 3031 -&gt; 3450.0, 6672 -&gt; 3000.0, 223107 -&gt; 2500.0, 3161 -&gt; 3100.0, 2503 -&gt; 2800.0, 3146 -&gt; 3250.0, 1018 -&gt; 600.0, 9276 -&gt; 0.0, 9403 -&gt; 0.0, 3193 -&gt; 3150.0, 4013 -&gt; 3000.0, 323121 -&gt; 2400.0, 223139 -&gt; 2500.0, 447116 -&gt; 1000.0, 223118 -&gt; 2500.0, 9408 -&gt; 0.0, 1509 -&gt; 0.0, 8020 -&gt; 2650.0, 6664 -&gt; 2800.0, 1516 -&gt; 0.0, 447103 -&gt; 1000.0, 2143 -&gt; 500.0, 223109 -&gt; 2500.0, 228002 -&gt; 6000.0, 224004 -&gt; 2500.0, 226693 -&gt; 1000.0, 223172 -&gt; 2500.0, 4630 -&gt; 1100.0, 223050 -&gt; 2500.0, 326616 -&gt; 2600.0, 223508 -&gt; 2500.0, 220009 -&gt; 750.0, 446671 -&gt; 1000.0, 3112 -&gt; 950.0, 3082 -&gt; 1000.0, 6621 -&gt; 2500.0, 446632 -&gt; 1000.0, 4641 -&gt; 350.0, 1053 -&gt; 900.0, 226675 -&gt; 2500.0, 9281 -&gt; 0.0, 3114 -&gt; 600.0, 447109 -&gt; 1000.0, 3026 -&gt; 3200.0, 220004 -&gt; 2000.0, 6653 -&gt; 3000.0, 3174 -&gt; 1700.0, 226610 -&gt; 2500.0, 323109 -&gt; 2900.0, 4003 -&gt; 1600.0, 1038 -&gt; 1300.0, 326621 -&gt; 2900.0, 223001 -&gt; 2500.0, 223033 -&gt; 2500.0, 3801 -&gt; 800.0, 3041 -&gt; 1500.0, 3095 -&gt; 3100.0, 3853 -&gt; 400.0, 6701 -&gt; 2700.0, 3107 -&gt; 2300.0, 326620 -&gt; 2600.0, 3124 -&gt; 3000.0, 6333 -&gt; 3300.0, 2145 -&gt; 0.0, 226035 -&gt; 2500.0, 3117 -&gt; 1000.0, 323119 -&gt; 2400.0, 3071 -&gt; 3000.0, 226697 -&gt; 2500.0, 3398 -&gt; 0.0, 2056 -&gt; 40.0, 220005 -&gt; 2000.0, 1052 -&gt; 400.0, 1506 -&gt; 0.0, 1504 -&gt; 0.0, 223046 -&gt; 2500.0, 223075 -&gt; 2500.0, 443079 -&gt; 1000.0, 3024 -&gt; 900.0, 9406 -&gt; 0.0, 9274 -&gt; 0.0, 223068 -&gt; 2500.0, 3156 -&gt; 3100.0, 223142 -&gt; 2500.0, 226631 -&gt; 2500.0, 323040 -&gt; 2900.0, 3400 -&gt; 0.0, 224005 -&gt; 2500.0, 9306 -&gt; 0.0, 3171 -&gt; 1400.0, 1517 -&gt; 0.0, 4646 -&gt; 2800.0, 221058 -&gt; 500.0, 3039 -&gt; 2900.0, 447123 -&gt; 1000.0, 223110 -&gt; 2500.0, 3139 -&gt; 3200.0, 9279 -&gt; 0.0, 9192 -&gt; 0.0, 223078 -&gt; 2500.0, 667101 -&gt; 2500.0, 3067 -&gt; 800.0, 447113 -&gt; 1000.0, 221031 -&gt; 500.0, 3864 -&gt; 400.0, 443064 -&gt; 1000.0, 224403 -&gt; 2500.0, 1101 -&gt; 450.0, 221026 -&gt; 500.0, 3748 -&gt; 3300.0, 667666 -&gt; 3000.0, 3003 -&gt; 2900.0, 6694 -&gt; 3000.0, 223036 -&gt; 2500.0, 1508 -&gt; 0.0, 443193 -&gt; 1000.0, 4010 -&gt; 2500.0, 1523 -&gt; 0.0, 3859 -&gt; 400.0, 9179 -&gt; 0.0, 2152 -&gt; 50.0, 3085 -&gt; 2650.0, 443083 -&gt; 1000.0, 323504 -&gt; 2600.0, 222141 -&gt; 500.0, 3430 -&gt; 2500.0, 2162 -&gt; 1000.0, 223100 -&gt; 2500.0, 9173 -&gt; 0.0, 228004 -&gt; 6000.0, 447119 -&gt; 1000.0, 9289 -&gt; 0.0, 2019 -&gt; 1100.0, 3181 -&gt; 3000.0, 228005 -&gt; 3000.0, 447106 -&gt; 1000.0, 2421 -&gt; 1600.0, 223089 -&gt; 2500.0, 1512 -&gt; 0.0, 221053 -&gt; 500.0, 6693 -&gt; 2850.0, 3865 -&gt; 400.0, 223040 -&gt; 2500.0, 223222 -&gt; 2500.0, 2003 -&gt; 50.0, 2142 -&gt; 500.0, 4014 -&gt; 3000.0, 221038 -&gt; 1300.0, 223121 -&gt; 2500.0, 3860 -&gt; 400.0, 9183 -&gt; 0.0, 3100 -&gt; 2900.0, 6671 -&gt; 3500.0, 2050 -&gt; 500.0, 3145 -&gt; 1100.0, 223004 -&gt; 2500.0, 9271 -&gt; 0.0, 7050 -&gt; 0.0, 3850 -&gt; 400.0, 223153 -&gt; 2500.0, 1033 -&gt; 400.0, 447102 -&gt; 1000.0, 226655 -&gt; 2500.0, 9293 -&gt; 0.0, 447115 -&gt; 1000.0, 223057 -&gt; 2500.0, 3177 -&gt; 950.0, 226672 -&gt; 2500.0, 447105 -&gt; 1000.0, 223181 -&gt; 2500.0, 443055 -&gt; 1000.0, 1056 -&gt; 400.0, 2021 -&gt; 1150.0, 447110 -&gt; 1000.0, 323107 -&gt; 2800.0, 3128 -&gt; 2900.0, 226616 -&gt; 2500.0, 3057 -&gt; 900.0, 3869 -&gt; 400.0, 6697 -&gt; 3000.0, 9193 -&gt; 0.0, 224628 -&gt; 2500.0, 1004 -&gt; 200.0, 663060 -&gt; 2500.0, 324005 -&gt; 2750.0, 2138 -&gt; 500.0, 2502 -&gt; 2800.0, 223302 -&gt; 2500.0, 1500 -&gt; 0.0, 9402 -&gt; 0.0, 3020 -&gt; 1100.0, 3076 -&gt; 800.0, 3113 -&gt; 900.0, 9188 -&gt; 0.0, 328020 -&gt; 2850.0, 4642 -&gt; 900.0, 223190 -&gt; 2500.0, 223053 -&gt; 2500.0, 223085 -&gt; 2500.0, 323110 -&gt; 2700.0, 9303 -&gt; 0.0, 6632 -&gt; 3450.0, 6035 -&gt; 3000.0, 3047 -&gt; 1200.0, 223158 -&gt; 500.0, 3035 -&gt; 1450.0, 3901 -&gt; 0.0, 3013 -&gt; 900.0, 323075 -&gt; 2650.0, 226694 -&gt; 2500.0, 223011 -&gt; 1900.0, 3854 -&gt; 400.0, 1037 -&gt; 875.0, 226676 -&gt; 2500.0)\nval costMapCol: org.apache.spark.sql.Column = HashMap(2163 -&gt; 1000.0, 223047 -&gt; 500.0, 1036 -&gt; 350.0, 223084 -&gt; 2500.0, 9273 -&gt; 0.0, 2031 -&gt; 150.0, 9180 -&gt; 0.0, 1031 -&gt; 800.0, 3863 -&gt; 400.0, 1083 -&gt; 450.0, 4015 -&gt; 2500.0, 6690 -&gt; 775.0, 9305 -&gt; 0.0, 1501 -&gt; 0.0, 9405 -&gt; 0.0, 3053 -&gt; 3200.0, 447118 -&gt; 1000.0, 4005 -&gt; 2250.0, 3399 -&gt; 0.0, 226632 -&gt; 2500.0, 1105 -&gt; 450.0, 447107 -&gt; 1000.0, 446656 -&gt; 1000.0, 3172 -&gt; 1600.0, 663056 -&gt; 2500.0, 226333 -&gt; 2500.0, 3858 -&gt; 400.0, 228008 -&gt; 9000.0, 3012 -&gt; 900.0, 443063 -&gt; 1000.0, 226691 -&gt; 2500.0, 9400 -&gt; 0.0, 323004 -&gt; 2900.0, 3072 -&gt; 3400.0, 220011 -&gt; 750.0, 1522 -&gt; 0.0, 6695 -&gt; 2500.0, 3040 -&gt; 2900.0, 3153 -&gt; 3200.0, 226664 -&gt; 2500.0, 446693 -&gt; 1000.0, 3108 -&gt; 850.0, 9184 -&gt; 0.0, 220001 -&gt; 2000.0, 443069 -&gt; 1000.0, 6665 -&gt; 3200.0, 3175 -&gt; 1600.0, 2141 -&gt; 300.0, 223072 -&gt; 2500.0, 3121 -&gt; 2400.0, 226667 -&gt; 2500.0, 9278 -&gt; 0.0, 2146 -&gt; 0.0, 4633 -&gt; 3100.0, 223116 -&gt; 2500.0, 4403 -&gt; 7187.0, 3004 -&gt; 2900.0, 6675 -&gt; 2650.0, 3135 -&gt; 3000.0, 4011 -&gt; 2500.0, 3044 -&gt; 1100.0, 223094 -&gt; 2500.0, 6655 -&gt; 2750.0, 4638 -&gt; 1100.0, 223748 -&gt; 2500.0, 223003 -&gt; 2500.0, 1507 -&gt; 0.0, 1001 -&gt; 300.0, 2010 -&gt; 50.0, 223111 -&gt; 500.0, 3140 -&gt; 1300.0, 1518 -&gt; 0.0, 223185 -&gt; 500.0, 9292 -&gt; 0.0, 443058 -&gt; 1000.0, 223067 -&gt; 500.0, 223143 -&gt; 2500.0, 2020 -&gt; 1337.0, 3513 -&gt; 0.0, 4637 -&gt; 3000.0, 1055 -&gt; 450.0, 9300 -&gt; 0.0, 220000 -&gt; 750.0, 3131 -&gt; 2300.0, 3116 -&gt; 2600.0, 3046 -&gt; 2650.0, 223105 -&gt; 500.0, 2501 -&gt; 3300.0, 220006 -&gt; 2000.0, 6676 -&gt; 3000.0, 223814 -&gt; 2500.0, 322065 -&gt; 2600.0, 3089 -&gt; 3500.0, 6662 -&gt; 2900.0, 226671 -&gt; 2500.0, 3803 -&gt; 1300.0, 3855 -&gt; 400.0, 323222 -&gt; 2800.0, 9172 -&gt; 0.0, 9287 -&gt; 0.0, 1511 -&gt; 0.0, 663193 -&gt; 2500.0, 2420 -&gt; 1600.0, 2049 -&gt; 500.0, 223071 -&gt; 2500.0, 667109 -&gt; 2500.0, 3084 -&gt; 3000.0, 223073 -&gt; 2500.0, 3902 -&gt; 0.0, 443081 -&gt; 1000.0, 3866 -&gt; 400.0, 444636 -&gt; 1000.0, 2403 -&gt; 0.0, 223020 -&gt; 500.0, 4632 -&gt; 1600.0, 444637 -&gt; 1000.0, 226699 -&gt; 2500.0, 9304 -&gt; 0.0, 223137 -&gt; 2500.0, 9283 -&gt; 0.0, 3075 -&gt; 2450.0, 447114 -&gt; 1000.0, 220002 -&gt; 2000.0, 223135 -&gt; 2500.0, 3152 -&gt; 2650.0, 224644 -&gt; 2500.0, 3851 -&gt; 400.0, 443056 -&gt; 1000.0, 9401 -&gt; 0.0, 6670 -&gt; 1300.0, 223039 -&gt; 2500.0, 1040 -&gt; 350.0, 6657 -&gt; 2600.0, 447111 -&gt; 2500.0, 226665 -&gt; 2500.0, 323003 -&gt; 2900.0, 3068 -&gt; 2700.0, 443059 -&gt; 1000.0, 223157 -&gt; 2500.0, 447101 -&gt; 1000.0, 223177 -&gt; 500.0, 3157 -&gt; 3250.0, 6702 -&gt; 0.0, 226695 -&gt; 2500.0, 4643 -&gt; 2300.0, 1104 -&gt; 0.0, 3184 -&gt; 950.0, 2508 -&gt; 900.0, 223742 -&gt; 2500.0, 6631 -&gt; 3300.0, 8001 -&gt; 2500.0, 3036 -&gt; 3100.0, 663059 -&gt; 2500.0, 9187 -&gt; 0.0, 6700 -&gt; 2675.0, 323190 -&gt; 2600.0, 6616 -&gt; 2250.0, 3870 -&gt; 400.0, 3211 -&gt; 1250.0, 1521 -&gt; 0.0, 9272 -&gt; 0.0, 4628 -&gt; 2750.0, 222502 -&gt; 2500.0, 226673 -&gt; 2500.0, 3011 -&gt; 1900.0, 3857 -&gt; 400.0, 224637 -&gt; 2500.0, 4629 -&gt; 3000.0, 446691 -&gt; 1000.0, 221011 -&gt; 500.0, 223156 -&gt; 2500.0, 447100 -&gt; 1000.0, 447108 -&gt; 1000.0, 1057 -&gt; 850.0, 226692 -&gt; 2500.0, 223504 -&gt; 2500.0, 9308 -&gt; 0.0, 223002 -&gt; 2500.0, 323050 -&gt; 2300.0, 9175 -&gt; 0.0, 223095 -&gt; 2500.0, 443062 -&gt; 1000.0, 4016 -&gt; 2500.0, 1042 -&gt; 250.0, 1502 -&gt; 0.0, 3742 -&gt; 2900.0, 223152 -&gt; 2500.0, 2150 -&gt; 0.0, 3814 -&gt; 3000.0, 6696 -&gt; 2750.0, 1519 -&gt; 0.0, 3867 -&gt; 400.0, 222503 -&gt; 2500.0, 220010 -&gt; 750.0, 663039 -&gt; 2500.0, 3134 -&gt; 1000.0, 223115 -&gt; 2500.0, 2015 -&gt; 700.0, 6620 -&gt; 2200.0, 9177 -&gt; 0.0, 223006 -&gt; 500.0, 9190 -&gt; 0.0, 9277 -&gt; 0.0, 3877 -&gt; 400.0, 3600 -&gt; 0.0, 9301 -&gt; 0.0, 3144 -&gt; 600.0, 4402 -&gt; 2950.0, 1027 -&gt; 300.0, 3050 -&gt; 2200.0, 226653 -&gt; 2500.0, 3033 -&gt; 3300.0, 1106 -&gt; 450.0, 3137 -&gt; 3000.0, 3065 -&gt; 2700.0, 3349 -&gt; 0.0, 226621 -&gt; 2500.0, 223031 -&gt; 2500.0, 6656 -&gt; 2865.0, 3105 -&gt; 1100.0, 223165 -&gt; 2500.0, 6677 -&gt; 1100.0, 3862 -&gt; 400.0, 6691 -&gt; 2950.0, 224645 -&gt; 2500.0, 4636 -&gt; 2765.0, 3102 -&gt; 3000.0, 1006 -&gt; 300.0, 221043 -&gt; 500.0, 3119 -&gt; 2400.0, 3078 -&gt; 3333.0, 3916 -&gt; 800.0, 3001 -&gt; 2300.0, 4012 -&gt; 3000.0, 226617 -&gt; 2500.0, 3176 -&gt; 1400.0, 3087 -&gt; 2700.0, 228020 -&gt; 2500.0, 3143 -&gt; 2700.0, 3179 -&gt; 2500.0, 223009 -&gt; 500.0, 3094 -&gt; 2650.0, 3010 -&gt; 900.0, 664644 -&gt; 2500.0, 9288 -&gt; 0.0, 223026 -&gt; 2500.0, 1039 -&gt; 350.0, 223112 -&gt; 500.0, 664011 -&gt; 2500.0, 1028 -&gt; 400.0, 1082 -&gt; 350.0, 228003 -&gt; 9000.0, 3032 -&gt; 3000.0, 6630 -&gt; 3200.0, 2504 -&gt; 2900.0, 223161 -&gt; 2500.0, 224401 -&gt; 2500.0, 3115 -&gt; 2900.0, 2052 -&gt; 0.0, 2140 -&gt; 500.0, 3083 -&gt; 3100.0, 220003 -&gt; 2000.0, 222065 -&gt; 2500.0, 3222 -&gt; 2300.0, 443090 -&gt; 1000.0, 3109 -&gt; 2300.0, 3074 -&gt; 3300.0, 3005 -&gt; 1000.0, 222022 -&gt; 250.0, 3364 -&gt; 0.0, 3903 -&gt; 0.0, 4644 -&gt; 2865.0, 9176 -&gt; 0.0, 3173 -&gt; 1750.0, 1054 -&gt; 450.0, 223102 -&gt; 2500.0, 1035 -&gt; 350.0, 9171 -&gt; 0.0, 447112 -&gt; 1000.0, 3147 -&gt; 1300.0, 224633 -&gt; 2500.0, 3802 -&gt; 1200.0, 226696 -&gt; 2500.0, 9284 -&gt; 0.0, 3190 -&gt; 2200.0, 6610 -&gt; 3100.0, 1515 -&gt; 0.0, 223087 -&gt; 2500.0, 1026 -&gt; 850.0, 3508 -&gt; 2900.0, 9168 -&gt; 0.0, 443061 -&gt; 1000.0, 223193 -&gt; 2500.0, 4004 -&gt; 2800.0, 447104 -&gt; 1000.0, 2144 -&gt; 500.0, 1510 -&gt; 0.0, 223091 -&gt; 2500.0, 220007 -&gt; 4000.0, 3042 -&gt; 2900.0, 6699 -&gt; 3000.0, 226609 -&gt; 2500.0, 9181 -&gt; 0.0, 9404 -&gt; 0.0, 3111 -&gt; 1250.0, 4017 -&gt; 2500.0, 663058 -&gt; 2500.0, 224629 -&gt; 2500.0, 1103 -&gt; 450.0, 3871 -&gt; 400.0, 2033 -&gt; 500.0, 3158 -&gt; 900.0, 223119 -&gt; 2500.0, 223032 -&gt; 2500.0, 444644 -&gt; 1000.0, 3070 -&gt; 400.0, 3504 -&gt; 2200.0, 226662 -&gt; 2500.0, 3086 -&gt; 1200.0, 223124 -&gt; 2500.0, 9189 -&gt; 0.0, 228006 -&gt; 3000.0, 3599 -&gt; 0.0, 323002 -&gt; 2600.0, 6617 -&gt; 2200.0, 223065 -&gt; 2500.0, 1520 -&gt; 0.0, 222504 -&gt; 2500.0, 2161 -&gt; 1000.0, 1503 -&gt; 0.0, 323070 -&gt; 400.0, 3023 -&gt; 1050.0, 3118 -&gt; 2700.0, 326617 -&gt; 2900.0, 9178 -&gt; 0.0, 3002 -&gt; 2400.0, 3340 -&gt; 0.0, 3123 -&gt; 800.0, 220008 -&gt; 750.0, 223005 -&gt; 500.0, 447122 -&gt; 1000.0, 9290 -&gt; 0.0, 443060 -&gt; 1000.0, 3170 -&gt; 1500.0, 9285 -&gt; 0.0, 226698 -&gt; 2500.0, 3051 -&gt; 1200.0, 228001 -&gt; 2500.0, 3077 -&gt; 1200.0, 4645 -&gt; 3200.0, 6667 -&gt; 2600.0, 6673 -&gt; 3000.0, 221057 -&gt; 450.0, 226630 -&gt; 1000.0, 3330 -&gt; 0.0, 1058 -&gt; 1200.0, 1107 -&gt; 450.0, 2055 -&gt; 75.0, 224636 -&gt; 2500.0, 664403 -&gt; 2500.0, 3091 -&gt; 2800.0, 3302 -&gt; 3000.0, 8010 -&gt; 2900.0, 9307 -&gt; 0.0, 224646 -&gt; 2500.0, 223042 -&gt; 2500.0, 2422 -&gt; 300.0, 1011 -&gt; 900.0, 9185 -&gt; 0.0, 223146 -&gt; 2500.0, 1043 -&gt; 700.0, 226701 -&gt; 2500.0, 3066 -&gt; 800.0, 663172 -&gt; 2500.0, 2065 -&gt; 2200.0, 663146 -&gt; 2500.0, 443080 -&gt; 1000.0, 326657 -&gt; 2600.0, 2151 -&gt; 50.0, 3155 -&gt; 1300.0, 9302 -&gt; 0.0, 4635 -&gt; 1265.0, 4401 -&gt; 2800.0, 226620 -&gt; 2500.0, 3165 -&gt; 2850.0, 9280 -&gt; 0.0, 226657 -&gt; 2500.0, 6692 -&gt; 2900.0, 6660 -&gt; 900.0, 9407 -&gt; 0.0, 223074 -&gt; 2500.0, 447120 -&gt; 1000.0, 3133 -&gt; 1050.0, 9174 -&gt; 0.0, 9275 -&gt; 0.0, 3073 -&gt; 3000.0, 1029 -&gt; 300.0, 3006 -&gt; 1100.0, 446667 -&gt; 1000.0, 3110 -&gt; 2500.0, 2139 -&gt; 500.0, 126697 -&gt; 2950.0, 3142 -&gt; 2800.0, 3348 -&gt; 0.0, 222051 -&gt; 500.0, 6029 -&gt; 1100.0, 663064 -&gt; 900.0, 6609 -&gt; 3100.0, 447121 -&gt; 1000.0, 2051 -&gt; 950.0, 226656 -&gt; 2500.0, 667112 -&gt; 2500.0, 2022 -&gt; 250.0, 3363 -&gt; 0.0, 323042 -&gt; 2900.0, 1102 -&gt; 450.0, 3876 -&gt; 400.0, 6698 -&gt; 2850.0, 223184 -&gt; 500.0, 3009 -&gt; 1000.0, 443054 -&gt; 1000.0, 3031 -&gt; 3450.0, 6672 -&gt; 3000.0, 223107 -&gt; 2500.0, 3161 -&gt; 3100.0, 2503 -&gt; 2800.0, 3146 -&gt; 3250.0, 1018 -&gt; 600.0, 9276 -&gt; 0.0, 9403 -&gt; 0.0, 3193 -&gt; 3150.0, 4013 -&gt; 3000.0, 323121 -&gt; 2400.0, 223139 -&gt; 2500.0, 447116 -&gt; 1000.0, 223118 -&gt; 2500.0, 9408 -&gt; 0.0, 1509 -&gt; 0.0, 8020 -&gt; 2650.0, 6664 -&gt; 2800.0, 1516 -&gt; 0.0, 447103 -&gt; 1000.0, 2143 -&gt; 500.0, 223109 -&gt; 2500.0, 228002 -&gt; 6000.0, 224004 -&gt; 2500.0, 226693 -&gt; 1000.0, 223172 -&gt; 2500.0, 4630 -&gt; 1100.0, 223050 -&gt; 2500.0, 326616 -&gt; 2600.0, 223508 -&gt; 2500.0, 220009 -&gt; 750.0, 446671 -&gt; 1000.0, 3112 -&gt; 950.0, 3082 -&gt; 1000.0, 6621 -&gt; 2500.0, 446632 -&gt; 1000.0, 4641 -&gt; 350.0, 1053 -&gt; 900.0, 226675 -&gt; 2500.0, 9281 -&gt; 0.0, 3114 -&gt; 600.0, 447109 -&gt; 1000.0, 3026 -&gt; 3200.0, 220004 -&gt; 2000.0, 6653 -&gt; 3000.0, 3174 -&gt; 1700.0, 226610 -&gt; 2500.0, 323109 -&gt; 2900.0, 4003 -&gt; 1600.0, 1038 -&gt; 1300.0, 326621 -&gt; 2900.0, 223001 -&gt; 2500.0, 223033 -&gt; 2500.0, 3801 -&gt; 800.0, 3041 -&gt; 1500.0, 3095 -&gt; 3100.0, 3853 -&gt; 400.0, 6701 -&gt; 2700.0, 3107 -&gt; 2300.0, 326620 -&gt; 2600.0, 3124 -&gt; 3000.0, 6333 -&gt; 3300.0, 2145 -&gt; 0.0, 226035 -&gt; 2500.0, 3117 -&gt; 1000.0, 323119 -&gt; 2400.0, 3071 -&gt; 3000.0, 226697 -&gt; 2500.0, 3398 -&gt; 0.0, 2056 -&gt; 40.0, 220005 -&gt; 2000.0, 1052 -&gt; 400.0, 1506 -&gt; 0.0, 1504 -&gt; 0.0, 223046 -&gt; 2500.0, 223075 -&gt; 2500.0, 443079 -&gt; 1000.0, 3024 -&gt; 900.0, 9406 -&gt; 0.0, 9274 -&gt; 0.0, 223068 -&gt; 2500.0, 3156 -&gt; 3100.0, 223142 -&gt; 2500.0, 226631 -&gt; 2500.0, 323040 -&gt; 2900.0, 3400 -&gt; 0.0, 224005 -&gt; 2500.0, 9306 -&gt; 0.0, 3171 -&gt; 1400.0, 1517 -&gt; 0.0, 4646 -&gt; 2800.0, 221058 -&gt; 500.0, 3039 -&gt; 2900.0, 447123 -&gt; 1000.0, 223110 -&gt; 2500.0, 3139 -&gt; 3200.0, 9279 -&gt; 0.0, 9192 -&gt; 0.0, 223078 -&gt; 2500.0, 667101 -&gt; 2500.0, 3067 -&gt; 800.0, 447113 -&gt; 1000.0, 221031 -&gt; 500.0, 3864 -&gt; 400.0, 443064 -&gt; 1000.0, 224403 -&gt; 2500.0, 1101 -&gt; 450.0, 221026 -&gt; 500.0, 3748 -&gt; 3300.0, 667666 -&gt; 3000.0, 3003 -&gt; 2900.0, 6694 -&gt; 3000.0, 223036 -&gt; 2500.0, 1508 -&gt; 0.0, 443193 -&gt; 1000.0, 4010 -&gt; 2500.0, 1523 -&gt; 0.0, 3859 -&gt; 400.0, 9179 -&gt; 0.0, 2152 -&gt; 50.0, 3085 -&gt; 2650.0, 443083 -&gt; 1000.0, 323504 -&gt; 2600.0, 222141 -&gt; 500.0, 3430 -&gt; 2500.0, 2162 -&gt; 1000.0, 223100 -&gt; 2500.0, 9173 -&gt; 0.0, 228004 -&gt; 6000.0, 447119 -&gt; 1000.0, 9289 -&gt; 0.0, 2019 -&gt; 1100.0, 3181 -&gt; 3000.0, 228005 -&gt; 3000.0, 447106 -&gt; 1000.0, 2421 -&gt; 1600.0, 223089 -&gt; 2500.0, 1512 -&gt; 0.0, 221053 -&gt; 500.0, 6693 -&gt; 2850.0, 3865 -&gt; 400.0, 223040 -&gt; 2500.0, 223222 -&gt; 2500.0, 2003 -&gt; 50.0, 2142 -&gt; 500.0, 4014 -&gt; 3000.0, 221038 -&gt; 1300.0, 223121 -&gt; 2500.0, 3860 -&gt; 400.0, 9183 -&gt; 0.0, 3100 -&gt; 2900.0, 6671 -&gt; 3500.0, 2050 -&gt; 500.0, 3145 -&gt; 1100.0, 223004 -&gt; 2500.0, 9271 -&gt; 0.0, 7050 -&gt; 0.0, 3850 -&gt; 400.0, 223153 -&gt; 2500.0, 1033 -&gt; 400.0, 447102 -&gt; 1000.0, 226655 -&gt; 2500.0, 9293 -&gt; 0.0, 447115 -&gt; 1000.0, 223057 -&gt; 2500.0, 3177 -&gt; 950.0, 226672 -&gt; 2500.0, 447105 -&gt; 1000.0, 223181 -&gt; 2500.0, 443055 -&gt; 1000.0, 1056 -&gt; 400.0, 2021 -&gt; 1150.0, 447110 -&gt; 1000.0, 323107 -&gt; 2800.0, 3128 -&gt; 2900.0, 226616 -&gt; 2500.0, 3057 -&gt; 900.0, 3869 -&gt; 400.0, 6697 -&gt; 3000.0, 9193 -&gt; 0.0, 224628 -&gt; 2500.0, 1004 -&gt; 200.0, 663060 -&gt; 2500.0, 324005 -&gt; 2750.0, 2138 -&gt; 500.0, 2502 -&gt; 2800.0, 223302 -&gt; 2500.0, 1500 -&gt; 0.0, 9402 -&gt; 0.0, 3020 -&gt; 1100.0, 3076 -&gt; 800.0, 3113 -&gt; 900.0, 9188 -&gt; 0.0, 328020 -&gt; 2850.0, 4642 -&gt; 900.0, 223190 -&gt; 2500.0, 223053 -&gt; 2500.0, 223085 -&gt; 2500.0, 323110 -&gt; 2700.0, 9303 -&gt; 0.0, 6632 -&gt; 3450.0, 6035 -&gt; 3000.0, 3047 -&gt; 1200.0, 223158 -&gt; 500.0, 3035 -&gt; 1450.0, 3901 -&gt; 0.0, 3013 -&gt; 900.0, 323075 -&gt; 2650.0, 226694 -&gt; 2500.0, 223011 -&gt; 1900.0, 3854 -&gt; 400.0, 1037 -&gt; 875.0, 226676 -&gt; 2500.0)\nval playerSignalsWithInv: org.apache.spark.sql.DataFrame = [kafkaKey: string, kafkaTs: timestamp ... 21 more fields]\n</div>",
       "datasetInfos": [
        {
         "name": "playerSignalsWithInv",
         "schema": {
          "fields": [
           {
            "metadata": {},
            "name": "kafkaKey",
            "nullable": true,
            "type": "string"
           },
           {
            "metadata": {},
            "name": "kafkaTs",
            "nullable": true,
            "type": "timestamp"
           },
           {
            "metadata": {},
            "name": "kind",
            "nullable": true,
            "type": "string"
           },
           {
            "metadata": {},
            "name": "tsMillis",
            "nullable": true,
            "type": "long"
           },
           {
            "metadata": {},
            "name": "gameId",
            "nullable": true,
            "type": "string"
           },
           {
            "metadata": {},
            "name": "riotId",
            "nullable": true,
            "type": "string"
           },
           {
            "metadata": {},
            "name": "level",
            "nullable": true,
            "type": "integer"
           },
           {
            "metadata": {},
            "name": "items",
            "nullable": true,
            "type": {
             "containsNull": true,
             "elementType": {
              "fields": [
               {
                "metadata": {},
                "name": "itemID",
                "nullable": true,
                "type": "long"
               },
               {
                "metadata": {},
                "name": "displayName",
                "nullable": true,
                "type": "string"
               },
               {
                "metadata": {},
                "name": "totalCost",
                "nullable": true,
                "type": "integer"
               },
               {
                "metadata": {},
                "name": "count",
                "nullable": true,
                "type": "integer"
               },
               {
                "metadata": {},
                "name": "slot",
                "nullable": true,
                "type": "integer"
               }
              ],
              "type": "struct"
             },
             "type": "array"
            }
           },
           {
            "metadata": {},
            "name": "scores",
            "nullable": true,
            "type": {
             "fields": [
              {
               "metadata": {},
               "name": "kills",
               "nullable": true,
               "type": "integer"
              },
              {
               "metadata": {},
               "name": "deaths",
               "nullable": true,
               "type": "integer"
              },
              {
               "metadata": {},
               "name": "assists",
               "nullable": true,
               "type": "integer"
              },
              {
               "metadata": {},
               "name": "creepScore",
               "nullable": true,
               "type": "integer"
              }
             ],
             "type": "struct"
            }
           },
           {
            "metadata": {},
            "name": "etype",
            "nullable": true,
            "type": "string"
           },
           {
            "metadata": {},
            "name": "role",
            "nullable": true,
            "type": "string"
           },
           {
            "metadata": {},
            "name": "eventId",
            "nullable": true,
            "type": "long"
           },
           {
            "metadata": {},
            "name": "timeSec",
            "nullable": true,
            "type": "double"
           },
           {
            "metadata": {},
            "name": "dragonType",
            "nullable": true,
            "type": "string"
           },
           {
            "metadata": {},
            "name": "stolen",
            "nullable": true,
            "type": "boolean"
           },
           {
            "metadata": {},
            "name": "turret",
            "nullable": true,
            "type": "string"
           },
           {
            "metadata": {},
            "name": "firstBlood",
            "nullable": true,
            "type": "boolean"
           },
           {
            "metadata": {},
            "name": "championName",
            "nullable": true,
            "type": "string"
           },
           {
            "metadata": {},
            "name": "topic",
            "nullable": true,
            "type": "string"
           },
           {
            "metadata": {},
            "name": "partition",
            "nullable": true,
            "type": "integer"
           },
           {
            "metadata": {},
            "name": "offset",
            "nullable": true,
            "type": "long"
           },
           {
            "metadata": {},
            "name": "team",
            "nullable": true,
            "type": "string"
           },
           {
            "metadata": {},
            "name": "invValue",
            "nullable": true,
            "type": "double"
           }
          ],
          "type": "struct"
         },
         "tableIdentifier": null,
         "typeStr": "org.apache.spark.sql.DataFrame"
        }
       ],
       "metadata": {},
       "removedWidgets": [],
       "type": "html"
      }
     }
    }
   ],
   "source": [
    "// Build driver-side lookup once\n",
    "val costMapLocal: Map[Long, Double] =\n",
    "  spark.table(\"users.alex_vanadio.ddragon_items\")\n",
    "    .select($\"itemId\".cast(LongType), $\"totalCost\".cast(DoubleType))\n",
    "    .collect()\n",
    "    .map(r => r.getLong(0) -> r.getDouble(1)).toMap\n",
    "\n",
    "val costMapCol = typedLit(costMapLocal) // MapType(LongType, DoubleType)\n",
    "\n",
    "// Compute invValue only on snapshots (no joins)\n",
    "val playerSignalsWithInv = playerSignalsWithItems\n",
    "  .withColumn(\n",
    "    \"invValue\",\n",
    "    when($\"kind\" === \"snapshot\",\n",
    "      aggregate(\n",
    "        coalesce($\"items\", array()),           // items: array<struct<itemID, count, ...>>\n",
    "        lit(0.0),                              // zero init\n",
    "        (acc, it) =>\n",
    "          acc +\n",
    "            coalesce(                            // price * count\n",
    "              element_at(costMapCol, it.getField(\"itemID\").cast(LongType)),\n",
    "              lit(0.0)\n",
    "            ) * coalesce(it.getField(\"count\").cast(IntegerType), lit(1))\n",
    "      )\n",
    "    ).otherwise(lit(null).cast(DoubleType))\n",
    "  )\n",
    "  .drop(\"items\")\n",
    "\n",
    "// display(playerSignalsWithInv)"
   ]
  },
  {
   "cell_type": "code",
   "execution_count": 0,
   "metadata": {
    "application/vnd.databricks.v1+cell": {
     "cellMetadata": {
      "byteLimit": 2048000,
      "rowLimit": 10000
     },
     "inputWidgets": {},
     "nuid": "dcc9dbbc-bc2d-4549-9fec-62663eec993c",
     "showTitle": false,
     "tableResultSettingsMap": {},
     "title": ""
    }
   },
   "outputs": [
    {
     "output_type": "display_data",
     "data": {
      "text/html": [
       "<style scoped>\n",
       "  .ansiout {\n",
       "    display: block;\n",
       "    unicode-bidi: embed;\n",
       "    white-space: pre-wrap;\n",
       "    word-wrap: break-word;\n",
       "    word-break: break-all;\n",
       "    font-family: \"Menlo\", \"Monaco\", \"Consolas\", \"Ubuntu Mono\", \"Source Code Pro\", monospace;\n",
       "    font-size: 13px;\n",
       "    color: #555;\n",
       "    margin-left: 4px;\n",
       "    line-height: 19px;\n",
       "  }\n",
       "</style>\n",
       "<div class=\"ansiout\">import demo.heat._\n",
       "val heatInEnc: org.apache.spark.sql.Encoder[demo.heat.HeatIn] = ProductEncoder(demo.heat.HeatIn,List(EncoderField(gameId,StringEncoder,true,{},None,None), EncoderField(team,StringEncoder,true,{},None,None), EncoderField(riotId,StringEncoder,true,{},None,None), EncoderField(tsMillis,PrimitiveLongEncoder,false,{},None,None), EncoderField(kind,StringEncoder,true,{},None,None), EncoderField(etype,OptionEncoder(StringEncoder),true,{},None,None), EncoderField(championName,OptionEncoder(StringEncoder),true,{},None,None), EncoderField(role,OptionEncoder(StringEncoder),true,{},None,None), EncoderField(level,OptionEncoder(PrimitiveIntEncoder),true,{},None,None), EncoderField(invValue,OptionEncoder(PrimitiveDoubleEncoder),true,{},None,None), EncoderField(eventId,OptionEncoder(PrimitiveLongEncoder),true,{},None,None), EncoderField(kills,OptionEncoder(PrimitiveIntEncoder),true,{},None,None), EncoderField(deaths,OptionEncoder(PrimitiveIntEncoder),true,{},None,None), EncoderField(assists,OptionEncoder(PrimitiveIntEncoder),true,{},None,None), EncoderField(creepScore,OptionEncoder(PrimitiveDoubleEncoder),true,{},None,None)),None)\n",
       "val heatOutEnc: org.apache.spark.sql.Encoder[demo.heat.HeatOut] = ProductEncoder(demo.heat.HeatOut,List(EncoderField(gameId,StringEncoder,true,{},None,None), EncoderField(team,StringEncoder,true,{},None,None), EncoderField(riotId,StringEncoder,true,{},None,None), EncoderField(championName,StringEncoder,true,{},None,None), EncoderField(emitTsMs,PrimitiveLongEncoder,false,{},None,None), EncoderField(powerRaw,PrimitiveDoubleEncoder,false,{},None,None), EncoderField(momentumRaw,PrimitiveDoubleEncoder,false,{},None,None), EncoderField(powerNorm,PrimitiveDoubleEncoder,false,{},None,None), EncoderField(momentumNorm,PrimitiveDoubleEncoder,false,{},None,None), EncoderField(heat,PrimitiveDoubleEncoder,false,{},None,None), EncoderField(spreeStreak,PrimitiveIntEncoder,false,{},None,None), EncoderField(kills,PrimitiveIntEncoder,false,{},None,None), EncoderField(deaths,PrimitiveIntEncoder,false,{},None,None), EncoderField(assists,PrimitiveIntEncoder,false,{},None,None), EncoderField(creepScore,PrimitiveDoubleEncoder,false,{},None,None), EncoderField(invValue,PrimitiveDoubleEncoder,false,{},None,None), EncoderField(level,PrimitiveIntEncoder,false,{},None,None), EncoderField(halfLifeSec,PrimitiveDoubleEncoder,false,{},None,None), EncoderField(momentumCap,PrimitiveDoubleEncoder,false,{},None,None), EncoderField(heatWPower,PrimitiveDoubleEncoder,false,{},None,None), EncoderField(heatWMomentum,PrimitiveDoubleEncoder,false,{},None,None), EncoderField(itemBudget,PrimitiveDoubleEncoder,false,{},None,None), EncoderField(levelMax,PrimitiveDoubleEncoder,false,{},None,None), EncoderField(sourceTsMs,PrimitiveLongEncoder,false,{},None,None), EncoderField(backendLatencyMs,PrimitiveLongEncoder,false,{},None,None)),None)\n",
       "val heatInDS: org.apache.spark.sql.Dataset[demo.heat.HeatIn] = [gameId: string, team: string ... 13 more fields]\n",
       "</div>"
      ]
     },
     "metadata": {
      "application/vnd.databricks.v1+output": {
       "addedWidgets": {},
       "arguments": {},
       "data": "<div class=\"ansiout\">import demo.heat._\nval heatInEnc: org.apache.spark.sql.Encoder[demo.heat.HeatIn] = ProductEncoder(demo.heat.HeatIn,List(EncoderField(gameId,StringEncoder,true,{},None,None), EncoderField(team,StringEncoder,true,{},None,None), EncoderField(riotId,StringEncoder,true,{},None,None), EncoderField(tsMillis,PrimitiveLongEncoder,false,{},None,None), EncoderField(kind,StringEncoder,true,{},None,None), EncoderField(etype,OptionEncoder(StringEncoder),true,{},None,None), EncoderField(championName,OptionEncoder(StringEncoder),true,{},None,None), EncoderField(role,OptionEncoder(StringEncoder),true,{},None,None), EncoderField(level,OptionEncoder(PrimitiveIntEncoder),true,{},None,None), EncoderField(invValue,OptionEncoder(PrimitiveDoubleEncoder),true,{},None,None), EncoderField(eventId,OptionEncoder(PrimitiveLongEncoder),true,{},None,None), EncoderField(kills,OptionEncoder(PrimitiveIntEncoder),true,{},None,None), EncoderField(deaths,OptionEncoder(PrimitiveIntEncoder),true,{},None,None), EncoderField(assists,OptionEncoder(PrimitiveIntEncoder),true,{},None,None), EncoderField(creepScore,OptionEncoder(PrimitiveDoubleEncoder),true,{},None,None)),None)\nval heatOutEnc: org.apache.spark.sql.Encoder[demo.heat.HeatOut] = ProductEncoder(demo.heat.HeatOut,List(EncoderField(gameId,StringEncoder,true,{},None,None), EncoderField(team,StringEncoder,true,{},None,None), EncoderField(riotId,StringEncoder,true,{},None,None), EncoderField(championName,StringEncoder,true,{},None,None), EncoderField(emitTsMs,PrimitiveLongEncoder,false,{},None,None), EncoderField(powerRaw,PrimitiveDoubleEncoder,false,{},None,None), EncoderField(momentumRaw,PrimitiveDoubleEncoder,false,{},None,None), EncoderField(powerNorm,PrimitiveDoubleEncoder,false,{},None,None), EncoderField(momentumNorm,PrimitiveDoubleEncoder,false,{},None,None), EncoderField(heat,PrimitiveDoubleEncoder,false,{},None,None), EncoderField(spreeStreak,PrimitiveIntEncoder,false,{},None,None), EncoderField(kills,PrimitiveIntEncoder,false,{},None,None), EncoderField(deaths,PrimitiveIntEncoder,false,{},None,None), EncoderField(assists,PrimitiveIntEncoder,false,{},None,None), EncoderField(creepScore,PrimitiveDoubleEncoder,false,{},None,None), EncoderField(invValue,PrimitiveDoubleEncoder,false,{},None,None), EncoderField(level,PrimitiveIntEncoder,false,{},None,None), EncoderField(halfLifeSec,PrimitiveDoubleEncoder,false,{},None,None), EncoderField(momentumCap,PrimitiveDoubleEncoder,false,{},None,None), EncoderField(heatWPower,PrimitiveDoubleEncoder,false,{},None,None), EncoderField(heatWMomentum,PrimitiveDoubleEncoder,false,{},None,None), EncoderField(itemBudget,PrimitiveDoubleEncoder,false,{},None,None), EncoderField(levelMax,PrimitiveDoubleEncoder,false,{},None,None), EncoderField(sourceTsMs,PrimitiveLongEncoder,false,{},None,None), EncoderField(backendLatencyMs,PrimitiveLongEncoder,false,{},None,None)),None)\nval heatInDS: org.apache.spark.sql.Dataset[demo.heat.HeatIn] = [gameId: string, team: string ... 13 more fields]\n</div>",
       "datasetInfos": [
        {
         "name": "heatInDS",
         "schema": {
          "fields": [
           {
            "metadata": {},
            "name": "gameId",
            "nullable": true,
            "type": "string"
           },
           {
            "metadata": {},
            "name": "team",
            "nullable": true,
            "type": "string"
           },
           {
            "metadata": {},
            "name": "riotId",
            "nullable": true,
            "type": "string"
           },
           {
            "metadata": {},
            "name": "tsMillis",
            "nullable": true,
            "type": "long"
           },
           {
            "metadata": {},
            "name": "kind",
            "nullable": true,
            "type": "string"
           },
           {
            "metadata": {},
            "name": "championName",
            "nullable": true,
            "type": "string"
           },
           {
            "metadata": {},
            "name": "etype",
            "nullable": true,
            "type": "string"
           },
           {
            "metadata": {},
            "name": "role",
            "nullable": true,
            "type": "string"
           },
           {
            "metadata": {},
            "name": "level",
            "nullable": true,
            "type": "integer"
           },
           {
            "metadata": {},
            "name": "invValue",
            "nullable": true,
            "type": "double"
           },
           {
            "metadata": {},
            "name": "eventId",
            "nullable": true,
            "type": "long"
           },
           {
            "metadata": {},
            "name": "kills",
            "nullable": true,
            "type": "integer"
           },
           {
            "metadata": {},
            "name": "deaths",
            "nullable": true,
            "type": "integer"
           },
           {
            "metadata": {},
            "name": "assists",
            "nullable": true,
            "type": "integer"
           },
           {
            "metadata": {},
            "name": "creepScore",
            "nullable": true,
            "type": "integer"
           }
          ],
          "type": "struct"
         },
         "tableIdentifier": null,
         "typeStr": "org.apache.spark.sql.Dataset[demo.heat.HeatIn]"
        }
       ],
       "metadata": {},
       "removedWidgets": [],
       "type": "html"
      }
     }
    }
   ],
   "source": [
    "import demo.heat._\n",
    "implicit val heatInEnc : Encoder[HeatIn]  = Encoders.product[HeatIn]\n",
    "implicit val heatOutEnc: Encoder[HeatOut] = Encoders.product[HeatOut]\n",
    "\n",
    "// Keep just what we need, and skip rows without a player identity\n",
    "val heatInDS =\n",
    "  playerSignalsWithInv\n",
    "    .filter($\"gameId\".isNotNull && $\"riotId\".isNotNull && $\"kind\".isNotNull && $\"tsMillis\".isNotNull && $\"team\".isNotNull)\n",
    "    .select(\n",
    "      $\"gameId\", $\"team\", $\"riotId\", $\"tsMillis\", $\"kind\", $\"championName\", $\"isDead\",\n",
    "      $\"etype\", $\"role\",\n",
    "      $\"level\", $\"invValue\", $\"items_str\",\n",
    "      $\"eventId\", \n",
    "      $\"scores.kills\", $\"scores.deaths\", $\"scores.assists\", $\"scores.creepScore\"\n",
    "    )\n",
    "    .as[HeatIn]\n",
    "\n",
    "// display(heatInDS)"
   ]
  },
  {
   "cell_type": "code",
   "execution_count": 0,
   "metadata": {
    "application/vnd.databricks.v1+cell": {
     "cellMetadata": {
      "byteLimit": 2048000,
      "rowLimit": 10000
     },
     "inputWidgets": {},
     "nuid": "7cee42d8-46ef-43cd-bc7f-4ccf59d83602",
     "showTitle": false,
     "tableResultSettingsMap": {},
     "title": ""
    }
   },
   "outputs": [
    {
     "output_type": "display_data",
     "data": {
      "text/html": [
       "<style scoped>\n",
       "  .ansiout {\n",
       "    display: block;\n",
       "    unicode-bidi: embed;\n",
       "    white-space: pre-wrap;\n",
       "    word-wrap: break-word;\n",
       "    word-break: break-all;\n",
       "    font-family: \"Menlo\", \"Monaco\", \"Consolas\", \"Ubuntu Mono\", \"Source Code Pro\", monospace;\n",
       "    font-size: 13px;\n",
       "    color: #555;\n",
       "    margin-left: 4px;\n",
       "    line-height: 19px;\n",
       "  }\n",
       "</style>\n",
       "<div class=\"ansiout\">import demo.heat._\n",
       "val heatDS: org.apache.spark.sql.Dataset[demo.heat.HeatOut] = [gameId: string, team: string ... 23 more fields]\n",
       "</div>"
      ]
     },
     "metadata": {
      "application/vnd.databricks.v1+output": {
       "addedWidgets": {},
       "arguments": {},
       "data": "<div class=\"ansiout\">import demo.heat._\nval heatDS: org.apache.spark.sql.Dataset[demo.heat.HeatOut] = [gameId: string, team: string ... 23 more fields]\n</div>",
       "datasetInfos": [
        {
         "name": "heatDS",
         "schema": {
          "fields": [
           {
            "metadata": {},
            "name": "gameId",
            "nullable": true,
            "type": "string"
           },
           {
            "metadata": {},
            "name": "team",
            "nullable": true,
            "type": "string"
           },
           {
            "metadata": {},
            "name": "riotId",
            "nullable": true,
            "type": "string"
           },
           {
            "metadata": {},
            "name": "championName",
            "nullable": true,
            "type": "string"
           },
           {
            "metadata": {},
            "name": "emitTsMs",
            "nullable": false,
            "type": "long"
           },
           {
            "metadata": {},
            "name": "powerRaw",
            "nullable": false,
            "type": "double"
           },
           {
            "metadata": {},
            "name": "momentumRaw",
            "nullable": false,
            "type": "double"
           },
           {
            "metadata": {},
            "name": "powerNorm",
            "nullable": false,
            "type": "double"
           },
           {
            "metadata": {},
            "name": "momentumNorm",
            "nullable": false,
            "type": "double"
           },
           {
            "metadata": {},
            "name": "heat",
            "nullable": false,
            "type": "double"
           },
           {
            "metadata": {},
            "name": "spreeStreak",
            "nullable": false,
            "type": "integer"
           },
           {
            "metadata": {},
            "name": "kills",
            "nullable": false,
            "type": "integer"
           },
           {
            "metadata": {},
            "name": "deaths",
            "nullable": false,
            "type": "integer"
           },
           {
            "metadata": {},
            "name": "assists",
            "nullable": false,
            "type": "integer"
           },
           {
            "metadata": {},
            "name": "creepScore",
            "nullable": false,
            "type": "double"
           },
           {
            "metadata": {},
            "name": "invValue",
            "nullable": false,
            "type": "double"
           },
           {
            "metadata": {},
            "name": "level",
            "nullable": false,
            "type": "integer"
           },
           {
            "metadata": {},
            "name": "halfLifeSec",
            "nullable": false,
            "type": "double"
           },
           {
            "metadata": {},
            "name": "momentumCap",
            "nullable": false,
            "type": "double"
           },
           {
            "metadata": {},
            "name": "heatWPower",
            "nullable": false,
            "type": "double"
           },
           {
            "metadata": {},
            "name": "heatWMomentum",
            "nullable": false,
            "type": "double"
           },
           {
            "metadata": {},
            "name": "itemBudget",
            "nullable": false,
            "type": "double"
           },
           {
            "metadata": {},
            "name": "levelMax",
            "nullable": false,
            "type": "double"
           },
           {
            "metadata": {},
            "name": "sourceTsMs",
            "nullable": false,
            "type": "long"
           },
           {
            "metadata": {},
            "name": "backendLatencyMs",
            "nullable": false,
            "type": "long"
           }
          ],
          "type": "struct"
         },
         "tableIdentifier": null,
         "typeStr": "org.apache.spark.sql.Dataset[demo.heat.HeatOut]"
        }
       ],
       "metadata": {},
       "removedWidgets": [],
       "type": "html"
      }
     }
    }
   ],
   "source": [
    "import demo.heat._\n",
    "\n",
    "val heatDS =\n",
    "  heatInDS\n",
    "    .groupByKey(h => s\"${h.gameId}|${h.riotId}|${h.team}\")\n",
    "    .transformWithState(new HeatProcessor(TTLConfig(java.time.Duration.ofHours(2))),\n",
    "                        TimeMode.ProcessingTime,\n",
    "                        OutputMode.Update)\n",
    "\n",
    "// display(heatDS)"
   ]
  },
  {
   "cell_type": "code",
   "execution_count": 0,
   "metadata": {
    "application/vnd.databricks.v1+cell": {
     "cellMetadata": {
      "byteLimit": 2048000,
      "rowLimit": 10000
     },
     "inputWidgets": {},
     "nuid": "bc1dad9e-a463-451f-b9e3-4e39e832068d",
     "showTitle": false,
     "tableResultSettingsMap": {},
     "title": ""
    }
   },
   "outputs": [
    {
     "output_type": "display_data",
     "data": {
      "text/html": [
       "<style scoped>\n",
       "  .ansiout {\n",
       "    display: block;\n",
       "    unicode-bidi: embed;\n",
       "    white-space: pre-wrap;\n",
       "    word-wrap: break-word;\n",
       "    word-break: break-all;\n",
       "    font-family: \"Menlo\", \"Monaco\", \"Consolas\", \"Ubuntu Mono\", \"Source Code Pro\", monospace;\n",
       "    font-size: 13px;\n",
       "    color: #555;\n",
       "    margin-left: 4px;\n",
       "    line-height: 19px;\n",
       "  }\n",
       "</style>\n",
       "<div class=\"ansiout\">import org.apache.spark.sql.execution.streaming.RealTimeTrigger\n",
       "import java.nio.file.Files\n",
       "val cols: IndexedSeq[org.apache.spark.sql.Column] = ArraySeq(gameId, team, riotId, championName, emitTsMs, powerRaw, momentumRaw, powerNorm, momentumNorm, heat, spreeStreak, kills, deaths, assists, creepScore, invValue, level, halfLifeSec, momentumCap, heatWPower, heatWMomentum, itemBudget, levelMax, sourceTsMs, backendLatencyMs)\n",
       "val toKafka: org.apache.spark.sql.DataFrame = [key: string, value: string]\n",
       "val res35: org.apache.spark.sql.streaming.StreamingQuery = org.apache.spark.sql.execution.streaming.StreamingQueryWrapper@6e30b734\n",
       "</div>"
      ]
     },
     "metadata": {
      "application/vnd.databricks.v1+output": {
       "addedWidgets": {},
       "arguments": {},
       "data": "<div class=\"ansiout\">import org.apache.spark.sql.execution.streaming.RealTimeTrigger\nimport java.nio.file.Files\nval cols: IndexedSeq[org.apache.spark.sql.Column] = ArraySeq(gameId, team, riotId, championName, emitTsMs, powerRaw, momentumRaw, powerNorm, momentumNorm, heat, spreeStreak, kills, deaths, assists, creepScore, invValue, level, halfLifeSec, momentumCap, heatWPower, heatWMomentum, itemBudget, levelMax, sourceTsMs, backendLatencyMs)\nval toKafka: org.apache.spark.sql.DataFrame = [key: string, value: string]\nval res35: org.apache.spark.sql.streaming.StreamingQuery = org.apache.spark.sql.execution.streaming.StreamingQueryWrapper@6e30b734\n</div>",
       "datasetInfos": [
        {
         "name": "toKafka",
         "schema": {
          "fields": [
           {
            "metadata": {},
            "name": "key",
            "nullable": false,
            "type": "string"
           },
           {
            "metadata": {},
            "name": "value",
            "nullable": true,
            "type": "string"
           }
          ],
          "type": "struct"
         },
         "tableIdentifier": null,
         "typeStr": "org.apache.spark.sql.DataFrame"
        }
       ],
       "metadata": {},
       "removedWidgets": [],
       "type": "html"
      }
     }
    }
   ],
   "source": [
    "import org.apache.spark.sql.execution.streaming.RealTimeTrigger\n",
    "import java.nio.file.Files\n",
    "\n",
    "val uuid = java.util.UUID.randomUUID.toString\n",
    "val cols = heatDS.columns.map(col).toIndexedSeq\n",
    "val toKafka =\n",
    "  heatDS.select(\n",
    "    concat_ws(\"|\", $\"gameId\", $\"riotId\", $\"team\").as(\"key\"),\n",
    "    to_json(struct(cols: _*)).as(\"value\")\n",
    "  )\n",
    "\n",
    "toKafka\n",
    "  .writeStream\n",
    "  .format(\"kafka\")\n",
    "  .option(\"kafka.bootstrap.servers\", kafkaBootstrap)\n",
    "  .option(\"kafka.security.protocol\", \"SASL_SSL\")\n",
    "  .option(\"kafka.sasl.mechanism\", \"PLAIN\")\n",
    "  .option(\"kafka.sasl.jaas.config\", \"kafkashaded.org.apache.kafka.common.security.plain.PlainLoginModule required username='DUZSLDUERISLSVET' password='cfltiL+DtOkmn4axL6BPsTr5+N//BAt7lQECDGcUdVpvI6HrVx75ICzlWbxs2h5g';\")\n",
    "  .option(\"topic\", \"heat\")\n",
    "  .option(\"checkpointLocation\", s\"/tmp/alexv/$uuid\")\n",
    "  .trigger(RealTimeTrigger.apply())\n",
    "  .outputMode(OutputMode.Update())\n",
    "  .start()\n"
   ]
  }
 ],
 "metadata": {
  "application/vnd.databricks.v1+notebook": {
   "computePreferences": {
    "hardware": {
     "accelerator": null,
     "gpuPoolId": null,
     "memory": null
    }
   },
   "dashboards": [],
   "environmentMetadata": {
    "base_environment": "",
    "environment_version": "3"
   },
   "inputWidgetPreferences": null,
   "language": "scala",
   "notebookMetadata": {
    "mostRecentlyExecutedCommandWithImplicitDF": {
     "commandId": -1,
     "dataframes": [
      "_sqldf"
     ]
    },
    "pythonIndentUnit": 2
   },
   "notebookName": "Real Time Player",
   "widgets": {}
  },
  "language_info": {
   "name": "scala"
  }
 },
 "nbformat": 4,
 "nbformat_minor": 0
}
